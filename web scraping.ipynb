{
 "cells": [
  {
   "cell_type": "code",
   "execution_count": 1,
   "metadata": {},
   "outputs": [],
   "source": [
    "import pandas as pd\n",
    "from time import sleep\n",
    "from selenium import webdriver\n",
    "from selenium.webdriver.support.ui import WebDriverWait\n",
    "from selenium.common.exceptions import TimeoutException\n",
    "from selenium.common.exceptions import NoSuchElementException \n",
    "import re\n",
    "import os"
   ]
  },
  {
   "cell_type": "code",
   "execution_count": 69,
   "metadata": {},
   "outputs": [
    {
     "name": "stdout",
     "output_type": "stream",
     "text": [
      "{'Location': ['Miami', 'Miami'], 'Surface': ['hard', 'hard'], 'Player1': ['Vesely J.', 'Alcaraz C.'], 'Player2': ['Djere L.', 'Ruusuvuori E.'], 'AvgP1': ['1.57', '2.42'], 'AvgP2': ['2.43', '1.57']}\n"
     ]
    }
   ],
   "source": [
    "\n",
    "\n",
    "url=\"https://www.oddsportal.com/matches/tennis/\"\n",
    "\n",
    "\n",
    "\n",
    "driver = webdriver.Chrome(executable_path=r'/Users/pierremecchia/Desktop/chromedriver')\n",
    "driver.get(url)\n",
    "sleep(10)\n",
    "\n",
    "\n",
    "table=driver.find_elements_by_xpath(\"//*[@id='table-matches']/table/tbody/tr[contains(@class,'dark')]\")\n",
    "\n",
    "list_href=[]\n",
    "list_location=[]\n",
    "list_surface=[]\n",
    "list_player1=[]\n",
    "list_player2=[]\n",
    "list_odd1=[]\n",
    "list_odd2=[]\n",
    "\n",
    "\n",
    "for row in table:\n",
    "    if \"ATP\" in row.text:\n",
    "        href=row.find_element_by_xpath('./th[1]/a[2]').get_attribute('href')\n",
    "        if href not in list_href:\n",
    "            list_href.append(href)\n",
    "driver.quit()\n",
    "\n",
    "driver = webdriver.Chrome(executable_path=r'/Users/pierremecchia/Desktop/chromedriver')\n",
    "driver.get(href)\n",
    "sleep(10)\n",
    "for href in list_href:\n",
    "    \n",
    "    h1=driver.find_element_by_xpath('//*[@id=\"col-content\"]/h1').text\n",
    "    location=h1.replace('Betting Odds','')\n",
    "    location=location.replace('ATP ','')\n",
    "    location=re.sub(r'\\([^)]*\\)', '', location)\n",
    "    location=location.rstrip().lstrip()\n",
    "    matches=driver.find_elements_by_xpath(\"//*[@id='tournamentTable']/tbody/tr\")\n",
    "    eventNb=0\n",
    "    for match in matches:\n",
    "        \n",
    "        try:\n",
    "            className=match.get_attribute(\"class\")\n",
    "            if className=='center nob-border':\n",
    "                eventNb+=1\n",
    "            if eventNb==1:\n",
    "                if not('dark' or 'nob-border' or 'table-dummyrow')in className:\n",
    "           \n",
    "                    try:\n",
    "                        players=match.find_element_by_xpath('./td[2]/a[not(contains(@class,\"ico-tv-tournament\"))]').text\n",
    "                        odd1=match.find_element_by_xpath('./td[3]/a').text\n",
    "                        odd2=match.find_element_by_xpath('./td[4]/a').text\n",
    "                        player1=players.split(\" - \")[0]\n",
    "                        player2=players.split(\" - \")[1]\n",
    "                        surface = re.search('\\(([^)]+)', h1).group(1)\n",
    "                        list_location.append(location)\n",
    "                        list_surface.append(surface)\n",
    "                        list_player1.append(player1)\n",
    "                        list_player2.append(player2)\n",
    "                        list_odd1.append(odd1)\n",
    "                        list_odd2.append(odd2)\n",
    "                    except :\n",
    "                        continue\n",
    "                    \n",
    "        except NoSuchElementException:\n",
    "            continue\n",
    "driver.quit()\n",
    "dictionnary={\"Location\":list_location,\"Surface\":list_surface,\"Player1\":list_player1,\"Player2\":list_player2,\"AvgP1\":list_odd1,\"AvgP2\":list_odd2}\n",
    "print(dictionnary)\n",
    "#driver.close()\n",
    "    #time.sleep(1)\n",
    "    #driver.quit()\n",
    "            \n",
    "    "
   ]
  },
  {
   "cell_type": "code",
   "execution_count": null,
   "metadata": {},
   "outputs": [],
   "source": []
  }
 ],
 "metadata": {
  "kernelspec": {
   "display_name": "Python 3",
   "language": "python",
   "name": "python3"
  },
  "language_info": {
   "codemirror_mode": {
    "name": "ipython",
    "version": 3
   },
   "file_extension": ".py",
   "mimetype": "text/x-python",
   "name": "python",
   "nbconvert_exporter": "python",
   "pygments_lexer": "ipython3",
   "version": "3.7.1"
  }
 },
 "nbformat": 4,
 "nbformat_minor": 4
}
