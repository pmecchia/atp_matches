{
 "cells": [
  {
   "cell_type": "code",
   "execution_count": 1,
   "metadata": {},
   "outputs": [],
   "source": [
    "import pandas as pd\n",
    "import numpy as np\n",
    "from time import sleep\n",
    "from selenium import webdriver\n",
    "from selenium.webdriver.support.ui import WebDriverWait\n",
    "from selenium.common.exceptions import TimeoutException\n",
    "from selenium.common.exceptions import NoSuchElementException \n",
    "import re\n",
    "import os"
   ]
  },
  {
   "cell_type": "code",
   "execution_count": 2,
   "metadata": {},
   "outputs": [],
   "source": [
    "\n",
    "\n",
    "url=\"https://www.oddsportal.com/matches/tennis/\"\n",
    "\n",
    "\n",
    "\n",
    "driver = webdriver.Chrome(executable_path=r'/Users/pierremecchia/Desktop/chromedriver')\n",
    "driver.get(url)\n",
    "sleep(5)\n",
    "\n",
    "\n",
    "table=driver.find_elements_by_xpath(\"//*[@id='table-matches']/table/tbody/tr[contains(@class,'dark')]\")\n",
    "\n",
    "list_href=[]\n",
    "list_location=[]\n",
    "list_surface=[]\n",
    "list_player1=[]\n",
    "list_player2=[]\n",
    "list_odd1=[]\n",
    "list_odd2=[]\n",
    "list_winnerP1=[]\n",
    "\n",
    "\n",
    "for row in table:\n",
    "    if (\"ATP\" in row.text) and (not \"Doubles\" in row.text):\n",
    "        href=row.find_element_by_xpath('./th[1]/a[2]').get_attribute('href')\n",
    "        if href not in list_href:\n",
    "            list_href.append(href)\n",
    "driver.quit()\n",
    "\n",
    "\n",
    "for href in list_href:\n",
    "    \n",
    "    driver = webdriver.Chrome(executable_path=r'/Users/pierremecchia/Desktop/chromedriver')\n",
    "    driver.get(href)\n",
    "    sleep(10)\n",
    "    \n",
    "    h1=driver.find_element_by_xpath('//*[@id=\"col-content\"]/h1').text\n",
    "    location=h1.replace('Betting Odds','')\n",
    "    location=location.replace('ATP ','')\n",
    "    location=re.sub(r'\\([^)]*\\)', '', location)\n",
    "    location=location.rstrip().lstrip()\n",
    "    matches=driver.find_elements_by_xpath(\"//*[@id='tournamentTable']/tbody/tr\")\n",
    "    \n",
    "    eventNb=0\n",
    "    for match in matches:\n",
    "        #print(match.text)\n",
    "        try:\n",
    "            className=match.get_attribute(\"class\")\n",
    "            if className=='center nob-border':\n",
    "                eventNb+=1\n",
    "            if eventNb==1:\n",
    "                if not('dark' or 'nob-border' or 'table-dummyrow')in className:\n",
    "           \n",
    "                    try:\n",
    "                        test=match.find_element_by_xpath('./td[2]/a').text\n",
    "                        if 'deactivate' in className:\n",
    "                            players=match.find_element_by_xpath('./td[2]/a').text\n",
    "                            winnerP1=match.find_element_by_xpath('./td[3]').text\n",
    "                            odd1=match.find_element_by_xpath('./td[4]/a').text\n",
    "                            odd2=match.find_element_by_xpath('./td[5]/a').text\n",
    "                            if (\"ret\" in winnerP1) or (\"canc\" in winnerP1):\n",
    "                                winnerP1=np.nan\n",
    "                            elif int(winnerP1[0])<int(winnerP1[2]):\n",
    "                                winnerP1=0\n",
    "                            else:\n",
    "                                winnerP1=1\n",
    "                        else:\n",
    "                            players=match.find_element_by_xpath('./td[2]/a[not(contains(@class,\"ico-tv-tournament\"))]').text\n",
    "                            odd1=match.find_element_by_xpath('./td[3]/a').text\n",
    "                            odd2=match.find_element_by_xpath('./td[4]/a').text\n",
    "                            winnerP1=np.nan\n",
    "                        \n",
    "                        players=players.replace(\". \",\".\")\n",
    "                        player1=players.split(\"-\")[0]\n",
    "                        player2=players.split(\"- \")[1]\n",
    "                        surface = re.search('\\(([^)]+)', h1).group(1)\n",
    "                        list_location.append(location)\n",
    "                        list_surface.append(surface)\n",
    "                        list_player1.append(player1)\n",
    "                        list_player2.append(player2)\n",
    "                        list_odd1.append(odd1)\n",
    "                        list_odd2.append(odd2)\n",
    "                        list_winnerP1.append(winnerP1)\n",
    "                    except :\n",
    "                        continue\n",
    "                    \n",
    "        except NoSuchElementException:\n",
    "            continue\n",
    "    driver.quit()\n",
    "dictionnary={\"Location\":list_location,\"Surface\":list_surface,\"Player1\":list_player1,\"Player2\":list_player2,\"AvgP1\":list_odd1,\"AvgP2\":list_odd2,\"WinnerP1\":list_winnerP1}\n",
    "\n",
    "            \n",
    "    "
   ]
  },
  {
   "cell_type": "code",
   "execution_count": 3,
   "metadata": {},
   "outputs": [
    {
     "name": "stdout",
     "output_type": "stream",
     "text": [
      "{'Location': ['Cagliari', 'Cagliari', 'Cagliari', 'Marbella', 'Marbella', 'Marbella', 'Marbella'], 'Surface': ['clay', 'clay', 'clay', 'clay', 'clay', 'clay', 'clay'], 'Player1': ['Gerasimov E.', 'Basilashvili N.', 'Martin A.', 'Gombos N.', 'Bagnis F.', 'Ramos A.', 'Carreno'], 'Player2': ['Bedene A.', 'Kovalik J.', 'Fritz T.', 'Delbonis F.', 'Kwon Soonwoo', 'Berankis R.', 'Vilella M.M.'], 'AvgP1': ['1.96', '1.79', '2.42', '3.04', '1.31', '1.24', '1.41'], 'AvgP2': ['1.86', '2.04', '1.57', '1.39', '3.44', '4.05', '2.92'], 'WinnerP1': [nan, nan, nan, nan, nan, nan, nan]}\n"
     ]
    }
   ],
   "source": [
    "print(dictionnary)"
   ]
  },
  {
   "cell_type": "code",
   "execution_count": 6,
   "metadata": {},
   "outputs": [],
   "source": [
    "df_validation=pd.DataFrame(dictionnary)"
   ]
  },
  {
   "cell_type": "code",
   "execution_count": 25,
   "metadata": {},
   "outputs": [],
   "source": [
    "locations_list=df_validation['Location'].unique()"
   ]
  },
  {
   "cell_type": "code",
   "execution_count": 29,
   "metadata": {},
   "outputs": [
    {
     "name": "stdout",
     "output_type": "stream",
     "text": [
      "<class 'numpy.ndarray'>\n"
     ]
    }
   ],
   "source": [
    "print(type(locations_list))"
   ]
  },
  {
   "cell_type": "code",
   "execution_count": 41,
   "metadata": {},
   "outputs": [],
   "source": [
    "url_tourn=\"https://www.atptour.com/en/tournaments/\"\n",
    "\n",
    "driver = webdriver.Chrome(executable_path=r'/Users/pierremecchia/Desktop/chromedriver')\n",
    "driver.get(url_tourn)\n",
    "sleep(5)\n",
    "\n",
    "month_tournament=driver.find_elements_by_xpath(\"//*[@id='contentAccordionWrapper']/div[contains(@class,'expand')][1]/div[2]/div/table/tbody/tr\")\n",
    "\n",
    "list_series=[]\n",
    "list_court=[]\n",
    "list_location=[]\n",
    "\n",
    "for tournament in month_tournament:\n",
    "    #print(tournament)\n",
    "    try:\n",
    "        location=tournament.find_element_by_xpath('./td[2]/span[1]').text\n",
    "        town=location.split(\",\")[0]\n",
    "        if town in locations_list:\n",
    "            try:\n",
    "                series=tournament.find_element_by_xpath('./td[1]/img').get_attribute(\"src\")\n",
    "                if \"250.png\" in series:\n",
    "                    series=\"ATP250\"\n",
    "                elif \"500.png\" in series:\n",
    "                    series=\"ATP500\"\n",
    "                elif \"1000.png\" in series:\n",
    "                    series=\"Masters 1000\"\n",
    "                elif \"grandslam.png\" in series:\n",
    "                    series=\"Grand Slam\"\n",
    "                elif \"finals.svg\" in series:\n",
    "                    series=\"ATP Finals\"\n",
    "                else:\n",
    "                    series=np.nan\n",
    "            except:\n",
    "                series=np.nan\n",
    "            try:\n",
    "                court=tournament.find_element_by_xpath('./td[3]/table/tbody/tr/td[2]/div/div').text\n",
    "                court=court.split(\" \")[0]\n",
    "            except:\n",
    "                court=np.nan\n",
    "            list_series.append(series)\n",
    "            list_court.append(court)\n",
    "            list_location.append(town)\n",
    "    except:\n",
    "        print(\"nan\")\n",
    "\n",
    "driver.quit()\n",
    "loc_dict={\"Location\":list_location,\"Series\":list_series,\"Court\":list_court}"
   ]
  },
  {
   "cell_type": "code",
   "execution_count": 42,
   "metadata": {},
   "outputs": [
    {
     "name": "stdout",
     "output_type": "stream",
     "text": [
      "{'Location': ['Marbella', 'Cagliari'], 'Series': ['ATP250', 'ATP250'], 'Court': ['Outdoor', 'Outdoor']}\n"
     ]
    }
   ],
   "source": [
    "print(loc_dict)"
   ]
  },
  {
   "cell_type": "code",
   "execution_count": null,
   "metadata": {},
   "outputs": [],
   "source": []
  }
 ],
 "metadata": {
  "kernelspec": {
   "display_name": "Python 3",
   "language": "python",
   "name": "python3"
  },
  "language_info": {
   "codemirror_mode": {
    "name": "ipython",
    "version": 3
   },
   "file_extension": ".py",
   "mimetype": "text/x-python",
   "name": "python",
   "nbconvert_exporter": "python",
   "pygments_lexer": "ipython3",
   "version": "3.7.1"
  }
 },
 "nbformat": 4,
 "nbformat_minor": 4
}
