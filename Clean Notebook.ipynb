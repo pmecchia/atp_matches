{
 "cells": [
  {
   "cell_type": "code",
   "execution_count": 1,
   "metadata": {},
   "outputs": [],
   "source": [
    "import pandas as pd\n",
    "import numpy as np\n",
    "import seaborn as sn\n",
    "import tensorflow as tf\n",
    "import matplotlib.pyplot as plt\n",
    "from math import log\n",
    "from sklearn import preprocessing\n",
    "from sklearn.model_selection import train_test_split\n",
    "from sklearn import metrics\n",
    "from sklearn import svm\n",
    "from sklearn.svm import LinearSVC\n",
    "from sklearn import neighbors, metrics\n",
    "\n",
    "from urllib.request import Request, urlopen\n",
    "from bs4 import BeautifulSoup\n",
    "from time import sleep\n"
   ]
  },
  {
   "cell_type": "markdown",
   "metadata": {},
   "source": [
    "## Betting odds Dataframe"
   ]
  },
  {
   "cell_type": "markdown",
   "metadata": {},
   "source": [
    "Source: <a href=\"http://tennis-data.co.uk/\" target=\"_blank\">http://tennis-data.co.uk/</a>"
   ]
  },
  {
   "cell_type": "code",
   "execution_count": 2,
   "metadata": {},
   "outputs": [],
   "source": [
    "df_betting=pd.DataFrame()\n",
    "for i in range(2002,2021):\n",
    "    \n",
    "    url=\"http://tennis-data.co.uk/%d/%d.xlsx\" %(i,i)\n",
    "    df=pd.read_excel(url)\n",
    "    df_betting= pd.concat([df_betting,df],ignore_index=True)"
   ]
  },
  {
   "cell_type": "markdown",
   "metadata": {},
   "source": [
    "Create a datframe with Atp matches since 2002"
   ]
  },
  {
   "cell_type": "markdown",
   "metadata": {},
   "source": [
    "### Clean data"
   ]
  },
  {
   "cell_type": "markdown",
   "metadata": {},
   "source": [
    "We can notice that depending the year, Betting Broker are not the same. So it's better to use the Min/Max and Average of betting odds. "
   ]
  },
  {
   "cell_type": "code",
   "execution_count": 3,
   "metadata": {},
   "outputs": [],
   "source": [
    "#Fill NaN values\n",
    "df_betting['MaxW']=df_betting['MaxW'].fillna(round(df_betting[['B365W', 'CBW', 'GBW', 'IWW','SBW', 'B&WW', 'EXW', 'PSW', 'UBW', 'LBW', 'SJW']].max(axis=1),2))\n",
    "df_betting['MaxL']=df_betting['MaxL'].fillna(round(df_betting[['B365L', 'CBL', 'GBL', 'IWL','SBL', 'B&WL', 'EXL', 'PSL', 'UBL', 'LBL', 'SJL']].max(axis=1),2))\n",
    "df_betting['AvgW']=df_betting['AvgW'].fillna(round(df_betting[['B365W', 'CBW', 'GBW', 'IWW','SBW', 'B&WW', 'EXW', 'PSW', 'UBW', 'LBW', 'SJW']].mean(axis=1),2))\n",
    "df_betting['AvgL']=df_betting['AvgL'].fillna(round(df_betting[['B365L', 'CBL', 'GBL', 'IWL','SBL', 'B&WL', 'EXL', 'PSL', 'UBL', 'LBL', 'SJL']].mean(axis=1),2))"
   ]
  },
  {
   "cell_type": "code",
   "execution_count": 4,
   "metadata": {},
   "outputs": [],
   "source": [
    "# drop useless datas\n",
    "df_betting=df_betting[df_betting['MaxW'].notna() & df_betting['MaxL'].notna()] # select rows where betting odds are present\n",
    "df_betting=df_betting.drop(df_betting[df_betting[\"Comment\"]!=\"Completed\"].index) #keep only completed matches\n",
    "df_betting=df_betting.drop(['Comment','Date','ATP','Best of'],axis=1) # drop useless columns\n",
    "df_betting=df_betting.drop(['B365W', 'CBW', 'GBW', 'IWW','SBW', 'B&WW', 'EXW', 'PSW', 'UBW', 'LBW', 'SJW','B365L', 'CBL', 'GBL', 'IWL','SBL', 'B&WL', 'EXL', 'PSL', 'UBL', 'LBL', 'SJL'],axis=1)\n",
    "df_betting=df_betting.drop(['W1','L1','W2','L2','W3','L3','W4','L4','W5','L5','Wsets','Lsets','WPts','LPts'],axis=1)\n",
    "df_betting=df_betting.drop(df_betting[(df_betting[\"WRank\"]=='NR') |  (df_betting[\"LRank\"]=='NR')].index) # drop matches with No ranked players\n",
    "df_betting=df_betting.dropna()\n",
    "df_betting[\"LRank\"] = df_betting.LRank.astype(float)# no more 'NR' players so we can convert into float"
   ]
  },
  {
   "cell_type": "code",
   "execution_count": 5,
   "metadata": {},
   "outputs": [],
   "source": [
    "def checkName(Name):\n",
    "    if '..' in Name:\n",
    "        Name=Name.replace('..','.')\n",
    "    else:\n",
    "        Name=Name\n",
    "        \n",
    "    if '. ' in Name:\n",
    "        Name=Name.replace('. ','.')\n",
    "    else:\n",
    "        Name=Name    \n",
    "        \n",
    "    length=len(Name)\n",
    "    if Name[length-1]!='.':\n",
    "        Name=Name+'.'\n",
    "    else:\n",
    "        Name=Name\n",
    "    return Name"
   ]
  },
  {
   "cell_type": "code",
   "execution_count": 6,
   "metadata": {},
   "outputs": [],
   "source": [
    "#Keep same syntax for player Name in order to have an unique ID for each player\n",
    "df_betting[\"Winner\"]=df_betting[\"Winner\"].apply(lambda x: checkName(x))\n",
    "df_betting[\"Loser\"]=df_betting[\"Loser\"].apply(lambda x: checkName(x))"
   ]
  },
  {
   "cell_type": "code",
   "execution_count": 7,
   "metadata": {},
   "outputs": [],
   "source": [
    "#Some Series have been renamed over years\n",
    "df_betting['Series'].replace({\"International Gold\":\"ATP500\",\"Masters Cup\":\"ATP Finals\",\"Masters\":\"ATP Finals\"},inplace =True)"
   ]
  },
  {
   "cell_type": "markdown",
   "metadata": {},
   "source": [
    "## Players Dataframe"
   ]
  },
  {
   "cell_type": "markdown",
   "metadata": {},
   "source": [
    "Source: <a href=\"https://www.kaggle.com/romanzdk/atp-players-overviews\" target=\"_blank\">https://www.kaggle.com/romanzdk/atp-players-overviews/</a>"
   ]
  },
  {
   "cell_type": "code",
   "execution_count": 8,
   "metadata": {},
   "outputs": [
    {
     "data": {
      "text/html": [
       "<div>\n",
       "<style scoped>\n",
       "    .dataframe tbody tr th:only-of-type {\n",
       "        vertical-align: middle;\n",
       "    }\n",
       "\n",
       "    .dataframe tbody tr th {\n",
       "        vertical-align: top;\n",
       "    }\n",
       "\n",
       "    .dataframe thead th {\n",
       "        text-align: right;\n",
       "    }\n",
       "</style>\n",
       "<table border=\"1\" class=\"dataframe\">\n",
       "  <thead>\n",
       "    <tr style=\"text-align: right;\">\n",
       "      <th></th>\n",
       "      <th>a002</th>\n",
       "      <th>ricardo-acuna</th>\n",
       "      <th>Ricardo</th>\n",
       "      <th>Acuna</th>\n",
       "      <th>http://www.atpworldtour.com/en/players/ricardo-acuna/a002/overview</th>\n",
       "      <th>CHI</th>\n",
       "      <th>Jupiter, FL, USA</th>\n",
       "      <th>Santiago, Chile</th>\n",
       "      <th>1958.01.13</th>\n",
       "      <th>1958</th>\n",
       "      <th>01</th>\n",
       "      <th>13</th>\n",
       "      <th>0</th>\n",
       "      <th>150</th>\n",
       "      <th>68</th>\n",
       "      <th>5'9\"</th>\n",
       "      <th>69</th>\n",
       "      <th>175</th>\n",
       "      <th>Unnamed: 18</th>\n",
       "      <th>Unnamed: 19</th>\n",
       "    </tr>\n",
       "  </thead>\n",
       "  <tbody>\n",
       "    <tr>\n",
       "      <th>0</th>\n",
       "      <td>a001</td>\n",
       "      <td>sadiq-abdullahi</td>\n",
       "      <td>Sadiq</td>\n",
       "      <td>Abdullahi</td>\n",
       "      <td>http://www.atpworldtour.com/en/players/sadiq-a...</td>\n",
       "      <td>NGR</td>\n",
       "      <td>NaN</td>\n",
       "      <td>NaN</td>\n",
       "      <td>1960.02.02</td>\n",
       "      <td>1960.0</td>\n",
       "      <td>2.0</td>\n",
       "      <td>2.0</td>\n",
       "      <td>0.0</td>\n",
       "      <td>0.0</td>\n",
       "      <td>0.0</td>\n",
       "      <td>0'0\"</td>\n",
       "      <td>0.0</td>\n",
       "      <td>0.0</td>\n",
       "      <td>NaN</td>\n",
       "      <td>NaN</td>\n",
       "    </tr>\n",
       "    <tr>\n",
       "      <th>1</th>\n",
       "      <td>a005</td>\n",
       "      <td>nelson-aerts</td>\n",
       "      <td>Nelson</td>\n",
       "      <td>Aerts</td>\n",
       "      <td>http://www.atpworldtour.com/en/players/nelson-...</td>\n",
       "      <td>BRA</td>\n",
       "      <td>NaN</td>\n",
       "      <td>Cachoeira Do Sul, Brazil</td>\n",
       "      <td>1963.04.25</td>\n",
       "      <td>1963.0</td>\n",
       "      <td>4.0</td>\n",
       "      <td>25.0</td>\n",
       "      <td>0.0</td>\n",
       "      <td>165.0</td>\n",
       "      <td>75.0</td>\n",
       "      <td>6'2\"</td>\n",
       "      <td>74.0</td>\n",
       "      <td>188.0</td>\n",
       "      <td>NaN</td>\n",
       "      <td>NaN</td>\n",
       "    </tr>\n",
       "    <tr>\n",
       "      <th>2</th>\n",
       "      <td>a004</td>\n",
       "      <td>egan-adams</td>\n",
       "      <td>Egan</td>\n",
       "      <td>Adams</td>\n",
       "      <td>http://www.atpworldtour.com/en/players/egan-ad...</td>\n",
       "      <td>USA</td>\n",
       "      <td>Palmetto, FL, USA</td>\n",
       "      <td>Miami Beach, FL, USA</td>\n",
       "      <td>1959.06.15</td>\n",
       "      <td>1959.0</td>\n",
       "      <td>6.0</td>\n",
       "      <td>15.0</td>\n",
       "      <td>0.0</td>\n",
       "      <td>160.0</td>\n",
       "      <td>73.0</td>\n",
       "      <td>5'10\"</td>\n",
       "      <td>70.0</td>\n",
       "      <td>178.0</td>\n",
       "      <td>NaN</td>\n",
       "      <td>NaN</td>\n",
       "    </tr>\n",
       "    <tr>\n",
       "      <th>3</th>\n",
       "      <td>a006</td>\n",
       "      <td>ronald-agenor</td>\n",
       "      <td>Ronald</td>\n",
       "      <td>Agenor</td>\n",
       "      <td>http://www.atpworldtour.com/en/players/ronald-...</td>\n",
       "      <td>USA</td>\n",
       "      <td>Beverly Hills, California, USA</td>\n",
       "      <td>Rabat, Morocco</td>\n",
       "      <td>1964.11.13</td>\n",
       "      <td>1964.0</td>\n",
       "      <td>11.0</td>\n",
       "      <td>13.0</td>\n",
       "      <td>1983.0</td>\n",
       "      <td>180.0</td>\n",
       "      <td>82.0</td>\n",
       "      <td>5'11\"</td>\n",
       "      <td>71.0</td>\n",
       "      <td>180.0</td>\n",
       "      <td>NaN</td>\n",
       "      <td>NaN</td>\n",
       "    </tr>\n",
       "    <tr>\n",
       "      <th>4</th>\n",
       "      <td>a007</td>\n",
       "      <td>juan-aguilera</td>\n",
       "      <td>Juan</td>\n",
       "      <td>Aguilera</td>\n",
       "      <td>http://www.atpworldtour.com/en/players/juan-ag...</td>\n",
       "      <td>ESP</td>\n",
       "      <td>NaN</td>\n",
       "      <td>Barcelona, Spain</td>\n",
       "      <td>1962.03.22</td>\n",
       "      <td>1962.0</td>\n",
       "      <td>3.0</td>\n",
       "      <td>22.0</td>\n",
       "      <td>0.0</td>\n",
       "      <td>150.0</td>\n",
       "      <td>68.0</td>\n",
       "      <td>6'0\"</td>\n",
       "      <td>72.0</td>\n",
       "      <td>183.0</td>\n",
       "      <td>NaN</td>\n",
       "      <td>NaN</td>\n",
       "    </tr>\n",
       "  </tbody>\n",
       "</table>\n",
       "</div>"
      ],
      "text/plain": [
       "   a002    ricardo-acuna Ricardo      Acuna  \\\n",
       "0  a001  sadiq-abdullahi   Sadiq  Abdullahi   \n",
       "1  a005     nelson-aerts  Nelson      Aerts   \n",
       "2  a004       egan-adams    Egan      Adams   \n",
       "3  a006    ronald-agenor  Ronald     Agenor   \n",
       "4  a007    juan-aguilera    Juan   Aguilera   \n",
       "\n",
       "  http://www.atpworldtour.com/en/players/ricardo-acuna/a002/overview  CHI  \\\n",
       "0  http://www.atpworldtour.com/en/players/sadiq-a...                  NGR   \n",
       "1  http://www.atpworldtour.com/en/players/nelson-...                  BRA   \n",
       "2  http://www.atpworldtour.com/en/players/egan-ad...                  USA   \n",
       "3  http://www.atpworldtour.com/en/players/ronald-...                  USA   \n",
       "4  http://www.atpworldtour.com/en/players/juan-ag...                  ESP   \n",
       "\n",
       "                 Jupiter, FL, USA           Santiago, Chile  1958.01.13  \\\n",
       "0                             NaN                       NaN  1960.02.02   \n",
       "1                             NaN  Cachoeira Do Sul, Brazil  1963.04.25   \n",
       "2               Palmetto, FL, USA      Miami Beach, FL, USA  1959.06.15   \n",
       "3  Beverly Hills, California, USA            Rabat, Morocco  1964.11.13   \n",
       "4                             NaN          Barcelona, Spain  1962.03.22   \n",
       "\n",
       "     1958    01    13       0    150    68   5'9\"    69    175 Unnamed: 18  \\\n",
       "0  1960.0   2.0   2.0     0.0    0.0   0.0   0'0\"   0.0    0.0         NaN   \n",
       "1  1963.0   4.0  25.0     0.0  165.0  75.0   6'2\"  74.0  188.0         NaN   \n",
       "2  1959.0   6.0  15.0     0.0  160.0  73.0  5'10\"  70.0  178.0         NaN   \n",
       "3  1964.0  11.0  13.0  1983.0  180.0  82.0  5'11\"  71.0  180.0         NaN   \n",
       "4  1962.0   3.0  22.0     0.0  150.0  68.0   6'0\"  72.0  183.0         NaN   \n",
       "\n",
       "  Unnamed: 19  \n",
       "0         NaN  \n",
       "1         NaN  \n",
       "2         NaN  \n",
       "3         NaN  \n",
       "4         NaN  "
      ]
     },
     "execution_count": 8,
     "metadata": {},
     "output_type": "execute_result"
    }
   ],
   "source": [
    "df_players=pd.read_csv('player_overviews.csv')\n",
    "df_players.head()"
   ]
  },
  {
   "cell_type": "code",
   "execution_count": 9,
   "metadata": {},
   "outputs": [
    {
     "data": {
      "text/html": [
       "<div>\n",
       "<style scoped>\n",
       "    .dataframe tbody tr th:only-of-type {\n",
       "        vertical-align: middle;\n",
       "    }\n",
       "\n",
       "    .dataframe tbody tr th {\n",
       "        vertical-align: top;\n",
       "    }\n",
       "\n",
       "    .dataframe thead th {\n",
       "        text-align: right;\n",
       "    }\n",
       "</style>\n",
       "<table border=\"1\" class=\"dataframe\">\n",
       "  <thead>\n",
       "    <tr style=\"text-align: right;\">\n",
       "      <th></th>\n",
       "      <th>AtpId</th>\n",
       "      <th>AtpName</th>\n",
       "      <th>FirstName</th>\n",
       "      <th>Name</th>\n",
       "      <th>Height</th>\n",
       "      <th>Handedness</th>\n",
       "    </tr>\n",
       "  </thead>\n",
       "  <tbody>\n",
       "    <tr>\n",
       "      <th>0</th>\n",
       "      <td>a001</td>\n",
       "      <td>sadiq-abdullahi</td>\n",
       "      <td>Sadiq</td>\n",
       "      <td>Abdullahi</td>\n",
       "      <td>0.0</td>\n",
       "      <td>NaN</td>\n",
       "    </tr>\n",
       "    <tr>\n",
       "      <th>1</th>\n",
       "      <td>a005</td>\n",
       "      <td>nelson-aerts</td>\n",
       "      <td>Nelson</td>\n",
       "      <td>Aerts</td>\n",
       "      <td>188.0</td>\n",
       "      <td>NaN</td>\n",
       "    </tr>\n",
       "    <tr>\n",
       "      <th>2</th>\n",
       "      <td>a004</td>\n",
       "      <td>egan-adams</td>\n",
       "      <td>Egan</td>\n",
       "      <td>Adams</td>\n",
       "      <td>178.0</td>\n",
       "      <td>NaN</td>\n",
       "    </tr>\n",
       "    <tr>\n",
       "      <th>3</th>\n",
       "      <td>a006</td>\n",
       "      <td>ronald-agenor</td>\n",
       "      <td>Ronald</td>\n",
       "      <td>Agenor</td>\n",
       "      <td>180.0</td>\n",
       "      <td>NaN</td>\n",
       "    </tr>\n",
       "    <tr>\n",
       "      <th>4</th>\n",
       "      <td>a007</td>\n",
       "      <td>juan-aguilera</td>\n",
       "      <td>Juan</td>\n",
       "      <td>Aguilera</td>\n",
       "      <td>183.0</td>\n",
       "      <td>NaN</td>\n",
       "    </tr>\n",
       "  </tbody>\n",
       "</table>\n",
       "</div>"
      ],
      "text/plain": [
       "  AtpId          AtpName FirstName       Name  Height Handedness\n",
       "0  a001  sadiq-abdullahi     Sadiq  Abdullahi     0.0        NaN\n",
       "1  a005     nelson-aerts    Nelson      Aerts   188.0        NaN\n",
       "2  a004       egan-adams      Egan      Adams   178.0        NaN\n",
       "3  a006    ronald-agenor    Ronald     Agenor   180.0        NaN\n",
       "4  a007    juan-aguilera      Juan   Aguilera   183.0        NaN"
      ]
     },
     "execution_count": 9,
     "metadata": {},
     "output_type": "execute_result"
    }
   ],
   "source": [
    "df_players=pd.read_csv('player_overviews.csv')\n",
    "df_players=df_players.drop(df_players.columns[4:17],axis=1)\n",
    "df_players=df_players.drop(df_players.columns[-1],axis=1)\n",
    "df_players.columns=['AtpId','AtpName','FirstName','Name','Height','Handedness']\n",
    "df_players.head()"
   ]
  },
  {
   "cell_type": "markdown",
   "metadata": {},
   "source": [
    "### Change Name syntax to be similar to betting dataframe"
   ]
  },
  {
   "cell_type": "markdown",
   "metadata": {},
   "source": [
    "For a future merge with the betting dataframe, we need to apply the same syntax to the Name column"
   ]
  },
  {
   "cell_type": "code",
   "execution_count": 10,
   "metadata": {},
   "outputs": [],
   "source": [
    "def PlayerName(Name,FirstName):\n",
    "    length= len(Name)\n",
    "    if \"-\" in FirstName:\n",
    "        FirstName=FirstName.split(\"-\")\n",
    "        player=Name+' '+FirstName[0][0]+'.'+FirstName[1][0]+'.'\n",
    "    elif \" \" in FirstName:\n",
    "        FirstName=FirstName.split()\n",
    "        if len(FirstName)>1:\n",
    "            player=Name+' '+FirstName[0][0]+'.'+FirstName[1][0]+'.'\n",
    "        else:\n",
    "            player=Name+' '+FirstName[0]+'.'\n",
    "    elif Name[length-1]=='.':\n",
    "        player=Name+FirstName[0]+'.'\n",
    "        \n",
    "    else:\n",
    "        player=Name+' '+FirstName[0]+'.'\n",
    "    return player.title()"
   ]
  },
  {
   "cell_type": "code",
   "execution_count": 11,
   "metadata": {},
   "outputs": [
    {
     "data": {
      "text/html": [
       "<div>\n",
       "<style scoped>\n",
       "    .dataframe tbody tr th:only-of-type {\n",
       "        vertical-align: middle;\n",
       "    }\n",
       "\n",
       "    .dataframe tbody tr th {\n",
       "        vertical-align: top;\n",
       "    }\n",
       "\n",
       "    .dataframe thead th {\n",
       "        text-align: right;\n",
       "    }\n",
       "</style>\n",
       "<table border=\"1\" class=\"dataframe\">\n",
       "  <thead>\n",
       "    <tr style=\"text-align: right;\">\n",
       "      <th></th>\n",
       "      <th>AtpId</th>\n",
       "      <th>AtpName</th>\n",
       "      <th>Name</th>\n",
       "      <th>Height</th>\n",
       "      <th>Handedness</th>\n",
       "    </tr>\n",
       "  </thead>\n",
       "  <tbody>\n",
       "    <tr>\n",
       "      <th>0</th>\n",
       "      <td>a001</td>\n",
       "      <td>sadiq-abdullahi</td>\n",
       "      <td>Abdullahi S.</td>\n",
       "      <td>0.0</td>\n",
       "      <td>NaN</td>\n",
       "    </tr>\n",
       "    <tr>\n",
       "      <th>1</th>\n",
       "      <td>a005</td>\n",
       "      <td>nelson-aerts</td>\n",
       "      <td>Aerts N.</td>\n",
       "      <td>188.0</td>\n",
       "      <td>NaN</td>\n",
       "    </tr>\n",
       "    <tr>\n",
       "      <th>2</th>\n",
       "      <td>a004</td>\n",
       "      <td>egan-adams</td>\n",
       "      <td>Adams E.</td>\n",
       "      <td>178.0</td>\n",
       "      <td>NaN</td>\n",
       "    </tr>\n",
       "    <tr>\n",
       "      <th>3</th>\n",
       "      <td>a006</td>\n",
       "      <td>ronald-agenor</td>\n",
       "      <td>Agenor R.</td>\n",
       "      <td>180.0</td>\n",
       "      <td>NaN</td>\n",
       "    </tr>\n",
       "    <tr>\n",
       "      <th>4</th>\n",
       "      <td>a007</td>\n",
       "      <td>juan-aguilera</td>\n",
       "      <td>Aguilera J.</td>\n",
       "      <td>183.0</td>\n",
       "      <td>NaN</td>\n",
       "    </tr>\n",
       "  </tbody>\n",
       "</table>\n",
       "</div>"
      ],
      "text/plain": [
       "  AtpId          AtpName          Name  Height Handedness\n",
       "0  a001  sadiq-abdullahi  Abdullahi S.     0.0        NaN\n",
       "1  a005     nelson-aerts      Aerts N.   188.0        NaN\n",
       "2  a004       egan-adams      Adams E.   178.0        NaN\n",
       "3  a006    ronald-agenor     Agenor R.   180.0        NaN\n",
       "4  a007    juan-aguilera   Aguilera J.   183.0        NaN"
      ]
     },
     "execution_count": 11,
     "metadata": {},
     "output_type": "execute_result"
    }
   ],
   "source": [
    "df_players['Name']=df_players.apply(lambda x: PlayerName(x[\"Name\"],x[\"FirstName\"]), axis=1)\n",
    "df_players=df_players.drop([\"FirstName\"],axis=1) #column not needed anymore\n",
    "df_players.head()"
   ]
  },
  {
   "cell_type": "code",
   "execution_count": 12,
   "metadata": {},
   "outputs": [
    {
     "name": "stdout",
     "output_type": "stream",
     "text": [
      "(10911, 5)\n"
     ]
    }
   ],
   "source": [
    "print(df_players.shape)"
   ]
  },
  {
   "cell_type": "markdown",
   "metadata": {},
   "source": [
    "### Select only commun players"
   ]
  },
  {
   "cell_type": "code",
   "execution_count": 13,
   "metadata": {},
   "outputs": [],
   "source": [
    "df_players=df_players[df_players[\"Name\"].isin(df_betting['Winner'])| df_players[\"Name\"].isin(df_betting['Loser'])] "
   ]
  },
  {
   "cell_type": "code",
   "execution_count": 14,
   "metadata": {},
   "outputs": [
    {
     "name": "stdout",
     "output_type": "stream",
     "text": [
      "(1169, 5)\n"
     ]
    }
   ],
   "source": [
    "print(df_players.shape)"
   ]
  },
  {
   "cell_type": "markdown",
   "metadata": {},
   "source": [
    "### Update players dataframe"
   ]
  },
  {
   "cell_type": "markdown",
   "metadata": {},
   "source": [
    "The dataset is not udpated and some current players are missing. The idea is to scrap datas from the https://www.atptour.com/ website."
   ]
  },
  {
   "cell_type": "code",
   "execution_count": 15,
   "metadata": {},
   "outputs": [],
   "source": [
    "#Player informations' are accessible through their atp overview webpage. \n",
    "#To get this page we need the name and the id given by the website.\n",
    "#A first scrap on 'https://www.atptour.com/en/rankings/singles/ gives the url of the overview page\n",
    "#Then for each player, we scrap First name and Last name in their overview webpage and create a dictionnary\n",
    "\n",
    "def AtpPlayers():\n",
    "    AtpIdList=[]\n",
    "    AtpNameList=[]\n",
    "    FirstNameList=[]\n",
    "    LastNameList=[]\n",
    "    ActualRankingList=[]\n",
    "    atpRank='https://www.atptour.com/en/rankings/singles/?rankDate=2020-9-14&countryCode=all&rankRange=0-700'\n",
    "    req = Request(atpRank, headers={'User-Agent': ''})\n",
    "    webpageAtp = urlopen(req).read()\n",
    "    soup = BeautifulSoup(webpageAtp, 'html.parser')\n",
    "    for i in range(0,700):\n",
    "        url_overview='https://www.atptour.com' + soup.select('.player-cell a')[i]['href']\n",
    "        AtpName=url_overview.split(\"/\")[5]\n",
    "        AtpId=url_overview.split(\"/\")[6]\n",
    "        \n",
    "        req2 = Request(url_overview, headers={'User-Agent': 'Mozilla/5.0'})\n",
    "        webpage_overview = urlopen(req2).read()\n",
    "        soup2 = BeautifulSoup(webpage_overview, 'html.parser')\n",
    "        try:\n",
    "            FirstName = soup2.find( attrs={'class': 'first-name'}).get_text()\n",
    "        except AttributeError:\n",
    "            FirstName=np.nan\n",
    "        \n",
    "        try:\n",
    "            Name = soup2.find( attrs={'class': 'last-name'}).get_text()\n",
    "        except AttributeError:\n",
    "            Name=np.nan\n",
    "            \n",
    "        \n",
    "            \n",
    "        AtpIdList.append(AtpId)\n",
    "        AtpNameList.append(AtpName)\n",
    "        FirstNameList.append(FirstName)\n",
    "        LastNameList.append(Name)\n",
    "        ActualRankingList.append(i+1)\n",
    "        \n",
    "        Dictionnary={'AtpId':AtpIdList,'AtpName':AtpNameList,'FirstName':FirstNameList,'Name':LastNameList,'ActualRanking':ActualRankingList}\n",
    "\n",
    "    return Dictionnary"
   ]
  },
  {
   "cell_type": "code",
   "execution_count": 16,
   "metadata": {},
   "outputs": [],
   "source": [
    "df_AtpPlayers=AtpPlayers() #get a dictionnary with scraped datas\n",
    "df_AtpPlayers=pd.DataFrame(df_AtpPlayers) #convert dictionnary into dataframe\n",
    "df_AtpPlayers['Name']=df_AtpPlayers.apply(lambda x: PlayerName(x[\"Name\"],x[\"FirstName\"]), axis=1)\n",
    "df_AtpPlayers=df_AtpPlayers.drop([\"FirstName\"],axis=1) #column not needed anymore"
   ]
  },
  {
   "cell_type": "code",
   "execution_count": 17,
   "metadata": {},
   "outputs": [
    {
     "name": "stdout",
     "output_type": "stream",
     "text": [
      "(1541, 6)\n"
     ]
    },
    {
     "data": {
      "text/html": [
       "<div>\n",
       "<style scoped>\n",
       "    .dataframe tbody tr th:only-of-type {\n",
       "        vertical-align: middle;\n",
       "    }\n",
       "\n",
       "    .dataframe tbody tr th {\n",
       "        vertical-align: top;\n",
       "    }\n",
       "\n",
       "    .dataframe thead th {\n",
       "        text-align: right;\n",
       "    }\n",
       "</style>\n",
       "<table border=\"1\" class=\"dataframe\">\n",
       "  <thead>\n",
       "    <tr style=\"text-align: right;\">\n",
       "      <th></th>\n",
       "      <th>AtpId</th>\n",
       "      <th>AtpName</th>\n",
       "      <th>Name</th>\n",
       "      <th>Height</th>\n",
       "      <th>Handedness</th>\n",
       "      <th>ActualRanking</th>\n",
       "    </tr>\n",
       "  </thead>\n",
       "  <tbody>\n",
       "    <tr>\n",
       "      <th>0</th>\n",
       "      <td>a012</td>\n",
       "      <td>marc-albert</td>\n",
       "      <td>Albert M.</td>\n",
       "      <td>0.0</td>\n",
       "      <td>NaN</td>\n",
       "      <td>NaN</td>\n",
       "    </tr>\n",
       "    <tr>\n",
       "      <th>1</th>\n",
       "      <td>a092</td>\n",
       "      <td>andre-agassi</td>\n",
       "      <td>Agassi A.</td>\n",
       "      <td>180.0</td>\n",
       "      <td>Right-Handed</td>\n",
       "      <td>NaN</td>\n",
       "    </tr>\n",
       "    <tr>\n",
       "      <th>3</th>\n",
       "      <td>a162</td>\n",
       "      <td>adam-anderson</td>\n",
       "      <td>Anderson A.</td>\n",
       "      <td>180.0</td>\n",
       "      <td>NaN</td>\n",
       "      <td>NaN</td>\n",
       "    </tr>\n",
       "    <tr>\n",
       "      <th>4</th>\n",
       "      <td>a202</td>\n",
       "      <td>wayne-arthurs</td>\n",
       "      <td>Arthurs W.</td>\n",
       "      <td>191.0</td>\n",
       "      <td>NaN</td>\n",
       "      <td>NaN</td>\n",
       "    </tr>\n",
       "    <tr>\n",
       "      <th>5</th>\n",
       "      <td>a203</td>\n",
       "      <td>karim-alami</td>\n",
       "      <td>Alami K.</td>\n",
       "      <td>185.0</td>\n",
       "      <td>NaN</td>\n",
       "      <td>NaN</td>\n",
       "    </tr>\n",
       "  </tbody>\n",
       "</table>\n",
       "</div>"
      ],
      "text/plain": [
       "  AtpId        AtpName         Name  Height    Handedness  ActualRanking\n",
       "0  a012    marc-albert    Albert M.     0.0           NaN            NaN\n",
       "1  a092   andre-agassi    Agassi A.   180.0  Right-Handed            NaN\n",
       "3  a162  adam-anderson  Anderson A.   180.0           NaN            NaN\n",
       "4  a202  wayne-arthurs   Arthurs W.   191.0           NaN            NaN\n",
       "5  a203    karim-alami     Alami K.   185.0           NaN            NaN"
      ]
     },
     "execution_count": 17,
     "metadata": {},
     "output_type": "execute_result"
    }
   ],
   "source": [
    "df_total_players=pd.concat([df_players, df_AtpPlayers], ignore_index=True) # concat the scraping dataframe with the original one\n",
    "df_total_players.drop_duplicates(subset =\"AtpId\",keep = \"last\", inplace = True) # KEEP UNIQUE VALUES\n",
    "print(df_total_players.shape)\n",
    "df_total_players.head()"
   ]
  },
  {
   "cell_type": "code",
   "execution_count": 18,
   "metadata": {},
   "outputs": [
    {
     "data": {
      "text/html": [
       "<div>\n",
       "<style scoped>\n",
       "    .dataframe tbody tr th:only-of-type {\n",
       "        vertical-align: middle;\n",
       "    }\n",
       "\n",
       "    .dataframe tbody tr th {\n",
       "        vertical-align: top;\n",
       "    }\n",
       "\n",
       "    .dataframe thead th {\n",
       "        text-align: right;\n",
       "    }\n",
       "</style>\n",
       "<table border=\"1\" class=\"dataframe\">\n",
       "  <thead>\n",
       "    <tr style=\"text-align: right;\">\n",
       "      <th></th>\n",
       "      <th>AtpId</th>\n",
       "      <th>AtpName</th>\n",
       "      <th>Name</th>\n",
       "      <th>Height</th>\n",
       "      <th>Handedness</th>\n",
       "      <th>ActualRanking</th>\n",
       "    </tr>\n",
       "  </thead>\n",
       "  <tbody>\n",
       "    <tr>\n",
       "      <th>1170</th>\n",
       "      <td>n409</td>\n",
       "      <td>rafael-nadal</td>\n",
       "      <td>Nadal R.</td>\n",
       "      <td>NaN</td>\n",
       "      <td>NaN</td>\n",
       "      <td>2.0</td>\n",
       "    </tr>\n",
       "  </tbody>\n",
       "</table>\n",
       "</div>"
      ],
      "text/plain": [
       "     AtpId       AtpName      Name  Height Handedness  ActualRanking\n",
       "1170  n409  rafael-nadal  Nadal R.     NaN        NaN            2.0"
      ]
     },
     "execution_count": 18,
     "metadata": {},
     "output_type": "execute_result"
    }
   ],
   "source": [
    "df_total_players[df_total_players[\"Name\"]==\"Nadal R.\"]"
   ]
  },
  {
   "cell_type": "markdown",
   "metadata": {},
   "source": [
    "Height, Handedness and Backhand are interesting criterias to analyse but we saw in the model prediction notebook that backhand had too many 'Nan' values even after scraping. Thanks to the AtId and AtpNAme we scraped on the website https://www.atptour.com/ "
   ]
  },
  {
   "cell_type": "code",
   "execution_count": 19,
   "metadata": {},
   "outputs": [],
   "source": [
    "def scraping(atpId,atpName,height,handedness):\n",
    "    \n",
    "    try:\n",
    "        url_atp = 'https://www.atptour.com/en/players/'+atpName+'/'+atpId+'/overview'\n",
    "        req = Request(url_atp, headers={'User-Agent': 'Mozilla/5.0'})\n",
    "        webpage = urlopen(req).read()\n",
    "        soup = BeautifulSoup(webpage, 'html.parser')\n",
    "\n",
    "        if ((height!=height) or (height==0.0)): #check NaN value or height equals to 0\n",
    "            try:\n",
    "                height = soup.find( attrs={'class': 'table-height-cm-wrapper'}).get_text()\n",
    "                height= height.replace('(','').replace(')','').replace('cm','')\n",
    "                if str(height)=='0':\n",
    "                    height=np.nan\n",
    "                else:\n",
    "                    height=height\n",
    "            except AttributeError:\n",
    "                height=np.nan\n",
    "        else:\n",
    "            height=height\n",
    "\n",
    "        if handedness!=handedness: #check NaN value\n",
    "            try:\n",
    "                plays= soup.find_all( attrs={'class':\"table-value\"})\n",
    "                if len(plays)>=2:\n",
    "                    plays=plays[2].get_text()\n",
    "                    if len(plays)>1:\n",
    "                        plays=plays.split(\", \")\n",
    "\n",
    "                        handedness=plays[0].replace(\"\\r\",\"\")\n",
    "                        handedness=handedness.replace(\"\\n\",\"\")  \n",
    "                    else:\n",
    "                        handedness=plays.replace(\"\\r\",\"\")\n",
    "                        handedness=handedness.replace(\"\\n\",\"\")\n",
    "                    if handedness=='':\n",
    "                        handedness=np.nan\n",
    "                    else:\n",
    "                        handedness=handedness\n",
    "                else:\n",
    "                    handedness=np.nan\n",
    "            except AttributeError:\n",
    "                handedness=np.nan\n",
    "        else:\n",
    "            handedness=handedness\n",
    "\n",
    "        \n",
    "    except:\n",
    "        height=handedness=np.nan\n",
    "    \n",
    "    \n",
    "    \n",
    "    return height,handedness"
   ]
  },
  {
   "cell_type": "code",
   "execution_count": 20,
   "metadata": {},
   "outputs": [],
   "source": [
    "def PlayersRanking(atpId,atpName):\n",
    "    url_atp = 'https://www.atptour.com/en/players/'+atpName+'/'+atpId+'/overview'\n",
    "    req = Request(url_atp, headers={'User-Agent': 'Mozilla/5.0'})\n",
    "    webpage = urlopen(req).read()\n",
    "    soup = BeautifulSoup(webpage, 'html.parser')\n",
    "    try:\n",
    "        Ranking = soup.find( attrs={'class': 'data-number'}).get_text()\n",
    "    except:\n",
    "        Ranking=np.nan\n",
    "    try:\n",
    "        int(Ranking)\n",
    "        return Ranking\n",
    "    except ValueError: #For inactive players \n",
    "        return np.nan"
   ]
  },
  {
   "cell_type": "code",
   "execution_count": 21,
   "metadata": {},
   "outputs": [],
   "source": []
  },
  {
   "cell_type": "code",
   "execution_count": 23,
   "metadata": {},
   "outputs": [
    {
     "data": {
      "text/plain": [
       "AtpId             object\n",
       "AtpName           object\n",
       "Name              object\n",
       "Height           float64\n",
       "Handedness        object\n",
       "ActualRanking    float64\n",
       "dtype: object"
      ]
     },
     "execution_count": 23,
     "metadata": {},
     "output_type": "execute_result"
    }
   ],
   "source": [
    "df_total_players.dtypes"
   ]
  },
  {
   "cell_type": "code",
   "execution_count": 24,
   "metadata": {},
   "outputs": [
    {
     "data": {
      "text/html": [
       "<div>\n",
       "<style scoped>\n",
       "    .dataframe tbody tr th:only-of-type {\n",
       "        vertical-align: middle;\n",
       "    }\n",
       "\n",
       "    .dataframe tbody tr th {\n",
       "        vertical-align: top;\n",
       "    }\n",
       "\n",
       "    .dataframe thead th {\n",
       "        text-align: right;\n",
       "    }\n",
       "</style>\n",
       "<table border=\"1\" class=\"dataframe\">\n",
       "  <thead>\n",
       "    <tr style=\"text-align: right;\">\n",
       "      <th></th>\n",
       "      <th>AtpId</th>\n",
       "      <th>AtpName</th>\n",
       "      <th>Name</th>\n",
       "      <th>Height</th>\n",
       "      <th>Handedness</th>\n",
       "      <th>ActualRanking</th>\n",
       "    </tr>\n",
       "  </thead>\n",
       "  <tbody>\n",
       "    <tr>\n",
       "      <th>0</th>\n",
       "      <td>a012</td>\n",
       "      <td>marc-albert</td>\n",
       "      <td>Albert M.</td>\n",
       "      <td>NaN</td>\n",
       "      <td>Right-Handed</td>\n",
       "      <td>NaN</td>\n",
       "    </tr>\n",
       "    <tr>\n",
       "      <th>1</th>\n",
       "      <td>a092</td>\n",
       "      <td>andre-agassi</td>\n",
       "      <td>Agassi A.</td>\n",
       "      <td>180</td>\n",
       "      <td>Right-Handed</td>\n",
       "      <td>NaN</td>\n",
       "    </tr>\n",
       "    <tr>\n",
       "      <th>3</th>\n",
       "      <td>a162</td>\n",
       "      <td>adam-anderson</td>\n",
       "      <td>Anderson A.</td>\n",
       "      <td>180</td>\n",
       "      <td>Right-Handed</td>\n",
       "      <td>NaN</td>\n",
       "    </tr>\n",
       "    <tr>\n",
       "      <th>4</th>\n",
       "      <td>a202</td>\n",
       "      <td>wayne-arthurs</td>\n",
       "      <td>Arthurs W.</td>\n",
       "      <td>191</td>\n",
       "      <td>Left-Handed</td>\n",
       "      <td>NaN</td>\n",
       "    </tr>\n",
       "    <tr>\n",
       "      <th>5</th>\n",
       "      <td>a203</td>\n",
       "      <td>karim-alami</td>\n",
       "      <td>Alami K.</td>\n",
       "      <td>185</td>\n",
       "      <td>Right-Handed</td>\n",
       "      <td>NaN</td>\n",
       "    </tr>\n",
       "  </tbody>\n",
       "</table>\n",
       "</div>"
      ],
      "text/plain": [
       "  AtpId        AtpName         Name Height    Handedness  ActualRanking\n",
       "0  a012    marc-albert    Albert M.    NaN  Right-Handed            NaN\n",
       "1  a092   andre-agassi    Agassi A.    180  Right-Handed            NaN\n",
       "3  a162  adam-anderson  Anderson A.    180  Right-Handed            NaN\n",
       "4  a202  wayne-arthurs   Arthurs W.    191   Left-Handed            NaN\n",
       "5  a203    karim-alami     Alami K.    185  Right-Handed            NaN"
      ]
     },
     "execution_count": 24,
     "metadata": {},
     "output_type": "execute_result"
    }
   ],
   "source": [
    "df_total_players[['Height','Handedness']]=df_total_players.apply(lambda x : scraping(x['AtpId'],x['AtpName'],x['Height'],x['Handedness']),axis=1, result_type=\"expand\")\n",
    "df_total_players.head()"
   ]
  },
  {
   "cell_type": "code",
   "execution_count": 25,
   "metadata": {},
   "outputs": [],
   "source": [
    "df_copy=df_total_players.copy()"
   ]
  },
  {
   "cell_type": "code",
   "execution_count": 26,
   "metadata": {},
   "outputs": [
    {
     "data": {
      "text/html": [
       "<div>\n",
       "<style scoped>\n",
       "    .dataframe tbody tr th:only-of-type {\n",
       "        vertical-align: middle;\n",
       "    }\n",
       "\n",
       "    .dataframe tbody tr th {\n",
       "        vertical-align: top;\n",
       "    }\n",
       "\n",
       "    .dataframe thead th {\n",
       "        text-align: right;\n",
       "    }\n",
       "</style>\n",
       "<table border=\"1\" class=\"dataframe\">\n",
       "  <thead>\n",
       "    <tr style=\"text-align: right;\">\n",
       "      <th></th>\n",
       "      <th>AtpId</th>\n",
       "      <th>AtpName</th>\n",
       "      <th>Name</th>\n",
       "      <th>Height</th>\n",
       "      <th>Handedness</th>\n",
       "      <th>ActualRanking</th>\n",
       "    </tr>\n",
       "  </thead>\n",
       "  <tbody>\n",
       "    <tr>\n",
       "      <th>1170</th>\n",
       "      <td>n409</td>\n",
       "      <td>rafael-nadal</td>\n",
       "      <td>Nadal R.</td>\n",
       "      <td>185</td>\n",
       "      <td>Left-Handed</td>\n",
       "      <td>2.0</td>\n",
       "    </tr>\n",
       "  </tbody>\n",
       "</table>\n",
       "</div>"
      ],
      "text/plain": [
       "     AtpId       AtpName      Name Height   Handedness  ActualRanking\n",
       "1170  n409  rafael-nadal  Nadal R.    185  Left-Handed            2.0"
      ]
     },
     "execution_count": 26,
     "metadata": {},
     "output_type": "execute_result"
    }
   ],
   "source": [
    "df_total_players[df_total_players[\"Name\"]==\"Nadal R.\"]"
   ]
  },
  {
   "cell_type": "code",
   "execution_count": null,
   "metadata": {},
   "outputs": [],
   "source": []
  }
 ],
 "metadata": {
  "kernelspec": {
   "display_name": "Python 3",
   "language": "python",
   "name": "python3"
  },
  "language_info": {
   "codemirror_mode": {
    "name": "ipython",
    "version": 3
   },
   "file_extension": ".py",
   "mimetype": "text/x-python",
   "name": "python",
   "nbconvert_exporter": "python",
   "pygments_lexer": "ipython3",
   "version": "3.7.1"
  }
 },
 "nbformat": 4,
 "nbformat_minor": 4
}
