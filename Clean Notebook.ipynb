{
 "cells": [
  {
   "cell_type": "code",
   "execution_count": 38,
   "metadata": {},
   "outputs": [],
   "source": [
    "import pandas as pd\n",
    "import numpy as np\n",
    "import seaborn as sn\n",
    "import tensorflow as tf\n",
    "import matplotlib.pyplot as plt\n",
    "from math import log\n",
    "from sklearn import preprocessing\n",
    "from sklearn.model_selection import train_test_split\n",
    "from sklearn import metrics\n",
    "from sklearn import svm\n",
    "from sklearn.svm import LinearSVC\n",
    "from sklearn import neighbors, metrics\n",
    "\n",
    "from urllib.request import Request, urlopen\n",
    "from bs4 import BeautifulSoup\n",
    "from time import sleep\n"
   ]
  },
  {
   "cell_type": "markdown",
   "metadata": {},
   "source": [
    "## Betting odds Dataframe"
   ]
  },
  {
   "cell_type": "markdown",
   "metadata": {},
   "source": [
    "Source: <a href=\"http://tennis-data.co.uk/\" target=\"_blank\">http://tennis-data.co.uk/</a>"
   ]
  },
  {
   "cell_type": "code",
   "execution_count": 117,
   "metadata": {},
   "outputs": [],
   "source": [
    "df_betting=pd.DataFrame()\n",
    "for i in range(2002,2021):\n",
    "    \n",
    "    url=\"http://tennis-data.co.uk/%d/%d.xlsx\" %(i,i)\n",
    "    df=pd.read_excel(url)\n",
    "    df_betting= pd.concat([df_betting,df],ignore_index=True)"
   ]
  },
  {
   "cell_type": "code",
   "execution_count": null,
   "metadata": {},
   "outputs": [],
   "source": []
  },
  {
   "cell_type": "markdown",
   "metadata": {},
   "source": [
    "Create a datframe with Atp matches since 2002"
   ]
  },
  {
   "cell_type": "code",
   "execution_count": 40,
   "metadata": {},
   "outputs": [],
   "source": [
    "def checkName(Name):\n",
    "    if '..' in Name:\n",
    "        Name=Name.replace('..','.')\n",
    "    else:\n",
    "        Name=Name\n",
    "        \n",
    "    if '. ' in Name:\n",
    "        Name=Name.replace('. ','.')\n",
    "    else:\n",
    "        Name=Name    \n",
    "        \n",
    "    length=len(Name)\n",
    "    if Name[length-1]!='.':\n",
    "        Name=Name+'.'\n",
    "    else:\n",
    "        Name=Name\n",
    "    return Name"
   ]
  },
  {
   "cell_type": "code",
   "execution_count": 41,
   "metadata": {},
   "outputs": [],
   "source": [
    "df_betting_players=pd.DataFrame()\n",
    "#Keep same syntax for player Name in order to have an unique ID for each player\n",
    "df_betting_players[\"Winner\"]=df_betting[\"Winner\"].apply(lambda x: checkName(x))\n",
    "df_betting_players[\"Loser\"]=df_betting[\"Loser\"].apply(lambda x: checkName(x))"
   ]
  },
  {
   "cell_type": "markdown",
   "metadata": {},
   "source": [
    "## Players Dataframe"
   ]
  },
  {
   "cell_type": "markdown",
   "metadata": {},
   "source": [
    "Source: <a href=\"https://www.kaggle.com/romanzdk/atp-players-overviews\" target=\"_blank\">https://www.kaggle.com/romanzdk/atp-players-overviews/</a>"
   ]
  },
  {
   "cell_type": "code",
   "execution_count": 42,
   "metadata": {},
   "outputs": [
    {
     "data": {
      "text/html": [
       "<div>\n",
       "<style scoped>\n",
       "    .dataframe tbody tr th:only-of-type {\n",
       "        vertical-align: middle;\n",
       "    }\n",
       "\n",
       "    .dataframe tbody tr th {\n",
       "        vertical-align: top;\n",
       "    }\n",
       "\n",
       "    .dataframe thead th {\n",
       "        text-align: right;\n",
       "    }\n",
       "</style>\n",
       "<table border=\"1\" class=\"dataframe\">\n",
       "  <thead>\n",
       "    <tr style=\"text-align: right;\">\n",
       "      <th></th>\n",
       "      <th>AtpId</th>\n",
       "      <th>AtpName</th>\n",
       "      <th>FirstName</th>\n",
       "      <th>Name</th>\n",
       "      <th>Height</th>\n",
       "      <th>Handedness</th>\n",
       "    </tr>\n",
       "  </thead>\n",
       "  <tbody>\n",
       "    <tr>\n",
       "      <th>0</th>\n",
       "      <td>a001</td>\n",
       "      <td>sadiq-abdullahi</td>\n",
       "      <td>Sadiq</td>\n",
       "      <td>Abdullahi</td>\n",
       "      <td>0.0</td>\n",
       "      <td>NaN</td>\n",
       "    </tr>\n",
       "    <tr>\n",
       "      <th>1</th>\n",
       "      <td>a005</td>\n",
       "      <td>nelson-aerts</td>\n",
       "      <td>Nelson</td>\n",
       "      <td>Aerts</td>\n",
       "      <td>188.0</td>\n",
       "      <td>NaN</td>\n",
       "    </tr>\n",
       "    <tr>\n",
       "      <th>2</th>\n",
       "      <td>a004</td>\n",
       "      <td>egan-adams</td>\n",
       "      <td>Egan</td>\n",
       "      <td>Adams</td>\n",
       "      <td>178.0</td>\n",
       "      <td>NaN</td>\n",
       "    </tr>\n",
       "    <tr>\n",
       "      <th>3</th>\n",
       "      <td>a006</td>\n",
       "      <td>ronald-agenor</td>\n",
       "      <td>Ronald</td>\n",
       "      <td>Agenor</td>\n",
       "      <td>180.0</td>\n",
       "      <td>NaN</td>\n",
       "    </tr>\n",
       "    <tr>\n",
       "      <th>4</th>\n",
       "      <td>a007</td>\n",
       "      <td>juan-aguilera</td>\n",
       "      <td>Juan</td>\n",
       "      <td>Aguilera</td>\n",
       "      <td>183.0</td>\n",
       "      <td>NaN</td>\n",
       "    </tr>\n",
       "  </tbody>\n",
       "</table>\n",
       "</div>"
      ],
      "text/plain": [
       "  AtpId          AtpName FirstName       Name  Height Handedness\n",
       "0  a001  sadiq-abdullahi     Sadiq  Abdullahi     0.0        NaN\n",
       "1  a005     nelson-aerts    Nelson      Aerts   188.0        NaN\n",
       "2  a004       egan-adams      Egan      Adams   178.0        NaN\n",
       "3  a006    ronald-agenor    Ronald     Agenor   180.0        NaN\n",
       "4  a007    juan-aguilera      Juan   Aguilera   183.0        NaN"
      ]
     },
     "execution_count": 42,
     "metadata": {},
     "output_type": "execute_result"
    }
   ],
   "source": [
    "df_players=pd.read_csv('player_overviews.csv')\n",
    "df_players=df_players.drop(df_players.columns[4:17],axis=1)\n",
    "df_players=df_players.drop(df_players.columns[-1],axis=1)\n",
    "df_players.columns=['AtpId','AtpName','FirstName','Name','Height','Handedness']\n",
    "df_players.head()"
   ]
  },
  {
   "cell_type": "markdown",
   "metadata": {},
   "source": [
    "### Change Name syntax to be similar to betting dataframe"
   ]
  },
  {
   "cell_type": "markdown",
   "metadata": {},
   "source": [
    "For a future merge with the betting dataframe, we need to apply the same syntax to the Name column"
   ]
  },
  {
   "cell_type": "code",
   "execution_count": 43,
   "metadata": {},
   "outputs": [],
   "source": [
    "def PlayerName(Name,FirstName):\n",
    "    length= len(Name)\n",
    "    if \"-\" in FirstName:\n",
    "        FirstName=FirstName.split(\"-\")\n",
    "        player=Name+' '+FirstName[0][0]+'.'+FirstName[1][0]+'.'\n",
    "    elif \" \" in FirstName:\n",
    "        FirstName=FirstName.split()\n",
    "        if len(FirstName)>1:\n",
    "            player=Name+' '+FirstName[0][0]+'.'+FirstName[1][0]+'.'\n",
    "        else:\n",
    "            player=Name+' '+FirstName[0]+'.'\n",
    "    elif Name[length-1]=='.':\n",
    "        player=Name+FirstName[0]+'.'\n",
    "        \n",
    "    else:\n",
    "        player=Name+' '+FirstName[0]+'.'\n",
    "    return player.title()"
   ]
  },
  {
   "cell_type": "code",
   "execution_count": 44,
   "metadata": {},
   "outputs": [],
   "source": [
    "df_players['NewName']=df_players.apply(lambda x: PlayerName(x[\"Name\"],x[\"FirstName\"]), axis=1)"
   ]
  },
  {
   "cell_type": "markdown",
   "metadata": {},
   "source": [
    "Some players have their name and first letter of their firstname similar. We have to distinguished them "
   ]
  },
  {
   "cell_type": "markdown",
   "metadata": {},
   "source": [
    "### Update players dataframe"
   ]
  },
  {
   "cell_type": "markdown",
   "metadata": {},
   "source": [
    "The dataset is not udpated and some current players are missing. The idea is to scrap datas from the https://www.atptour.com/ website."
   ]
  },
  {
   "cell_type": "code",
   "execution_count": 45,
   "metadata": {},
   "outputs": [],
   "source": [
    "#Player informations' are accessible through their atp overview webpage. \n",
    "#To get this page we need the name and the id given by the website.\n",
    "#A first scrap on 'https://www.atptour.com/en/rankings/singles/ gives the url of the overview page\n",
    "#Then for each player, we scrap First name and Last name in their overview webpage and create a dictionnary\n",
    "\n",
    "def AtpPlayers():\n",
    "    AtpIdList=[]\n",
    "    AtpNameList=[]\n",
    "    FirstNameList=[]\n",
    "    LastNameList=[]\n",
    "    ActualRankingList=[]\n",
    "    atpRank='https://www.atptour.com/en/rankings/singles/?rankDate=2020-9-14&countryCode=all&rankRange=0-700'\n",
    "    req = Request(atpRank, headers={'User-Agent': ''})\n",
    "    webpageAtp = urlopen(req).read()\n",
    "    soup = BeautifulSoup(webpageAtp, 'html.parser')\n",
    "    for i in range(0,700):\n",
    "        url_overview='https://www.atptour.com' + soup.select('.player-cell a')[i]['href']\n",
    "        AtpName=url_overview.split(\"/\")[5]\n",
    "        AtpId=url_overview.split(\"/\")[6]\n",
    "        \n",
    "        req2 = Request(url_overview, headers={'User-Agent': 'Mozilla/5.0'})\n",
    "        webpage_overview = urlopen(req2).read()\n",
    "        soup2 = BeautifulSoup(webpage_overview, 'html.parser')\n",
    "        try:\n",
    "            FirstName = soup2.find( attrs={'class': 'first-name'}).get_text()\n",
    "        except AttributeError:\n",
    "            FirstName=np.nan\n",
    "        \n",
    "        try:\n",
    "            Name = soup2.find( attrs={'class': 'last-name'}).get_text()\n",
    "        except AttributeError:\n",
    "            Name=np.nan\n",
    "            \n",
    "        \n",
    "            \n",
    "        AtpIdList.append(AtpId)\n",
    "        AtpNameList.append(AtpName)\n",
    "        FirstNameList.append(FirstName)\n",
    "        LastNameList.append(Name)\n",
    "        ActualRankingList.append(i+1)\n",
    "        \n",
    "        Dictionnary={'AtpId':AtpIdList,'AtpName':AtpNameList,'FirstName':FirstNameList,'Name':LastNameList,'ActualRanking':ActualRankingList}\n",
    "\n",
    "    return Dictionnary"
   ]
  },
  {
   "cell_type": "code",
   "execution_count": 46,
   "metadata": {},
   "outputs": [],
   "source": [
    "df_AtpPlayers=AtpPlayers() #get a dictionnary with scraped datas\n",
    "df_AtpPlayers=pd.DataFrame(df_AtpPlayers) #convert dictionnary into dataframe\n",
    "df_AtpPlayers['NewName']=df_AtpPlayers.apply(lambda x: PlayerName(x[\"Name\"],x[\"FirstName\"]), axis=1)\n",
    "#df_AtpPlayers=df_AtpPlayers.drop([\"FirstName\"],axis=1) #column not needed anymore"
   ]
  },
  {
   "cell_type": "code",
   "execution_count": 47,
   "metadata": {},
   "outputs": [
    {
     "name": "stdout",
     "output_type": "stream",
     "text": [
      "(11188, 8)\n"
     ]
    },
    {
     "data": {
      "text/html": [
       "<div>\n",
       "<style scoped>\n",
       "    .dataframe tbody tr th:only-of-type {\n",
       "        vertical-align: middle;\n",
       "    }\n",
       "\n",
       "    .dataframe tbody tr th {\n",
       "        vertical-align: top;\n",
       "    }\n",
       "\n",
       "    .dataframe thead th {\n",
       "        text-align: right;\n",
       "    }\n",
       "</style>\n",
       "<table border=\"1\" class=\"dataframe\">\n",
       "  <thead>\n",
       "    <tr style=\"text-align: right;\">\n",
       "      <th></th>\n",
       "      <th>AtpId</th>\n",
       "      <th>AtpName</th>\n",
       "      <th>FirstName</th>\n",
       "      <th>Name</th>\n",
       "      <th>Height</th>\n",
       "      <th>Handedness</th>\n",
       "      <th>NewName</th>\n",
       "      <th>ActualRanking</th>\n",
       "    </tr>\n",
       "  </thead>\n",
       "  <tbody>\n",
       "    <tr>\n",
       "      <th>0</th>\n",
       "      <td>a001</td>\n",
       "      <td>sadiq-abdullahi</td>\n",
       "      <td>Sadiq</td>\n",
       "      <td>Abdullahi</td>\n",
       "      <td>0.0</td>\n",
       "      <td>NaN</td>\n",
       "      <td>Abdullahi S.</td>\n",
       "      <td>NaN</td>\n",
       "    </tr>\n",
       "    <tr>\n",
       "      <th>1</th>\n",
       "      <td>a005</td>\n",
       "      <td>nelson-aerts</td>\n",
       "      <td>Nelson</td>\n",
       "      <td>Aerts</td>\n",
       "      <td>188.0</td>\n",
       "      <td>NaN</td>\n",
       "      <td>Aerts N.</td>\n",
       "      <td>NaN</td>\n",
       "    </tr>\n",
       "    <tr>\n",
       "      <th>2</th>\n",
       "      <td>a004</td>\n",
       "      <td>egan-adams</td>\n",
       "      <td>Egan</td>\n",
       "      <td>Adams</td>\n",
       "      <td>178.0</td>\n",
       "      <td>NaN</td>\n",
       "      <td>Adams E.</td>\n",
       "      <td>NaN</td>\n",
       "    </tr>\n",
       "    <tr>\n",
       "      <th>3</th>\n",
       "      <td>a006</td>\n",
       "      <td>ronald-agenor</td>\n",
       "      <td>Ronald</td>\n",
       "      <td>Agenor</td>\n",
       "      <td>180.0</td>\n",
       "      <td>NaN</td>\n",
       "      <td>Agenor R.</td>\n",
       "      <td>NaN</td>\n",
       "    </tr>\n",
       "    <tr>\n",
       "      <th>4</th>\n",
       "      <td>a007</td>\n",
       "      <td>juan-aguilera</td>\n",
       "      <td>Juan</td>\n",
       "      <td>Aguilera</td>\n",
       "      <td>183.0</td>\n",
       "      <td>NaN</td>\n",
       "      <td>Aguilera J.</td>\n",
       "      <td>NaN</td>\n",
       "    </tr>\n",
       "  </tbody>\n",
       "</table>\n",
       "</div>"
      ],
      "text/plain": [
       "  AtpId          AtpName FirstName       Name  Height Handedness  \\\n",
       "0  a001  sadiq-abdullahi     Sadiq  Abdullahi     0.0        NaN   \n",
       "1  a005     nelson-aerts    Nelson      Aerts   188.0        NaN   \n",
       "2  a004       egan-adams      Egan      Adams   178.0        NaN   \n",
       "3  a006    ronald-agenor    Ronald     Agenor   180.0        NaN   \n",
       "4  a007    juan-aguilera      Juan   Aguilera   183.0        NaN   \n",
       "\n",
       "        NewName  ActualRanking  \n",
       "0  Abdullahi S.            NaN  \n",
       "1      Aerts N.            NaN  \n",
       "2      Adams E.            NaN  \n",
       "3     Agenor R.            NaN  \n",
       "4   Aguilera J.            NaN  "
      ]
     },
     "execution_count": 47,
     "metadata": {},
     "output_type": "execute_result"
    }
   ],
   "source": [
    "df_total_players=pd.concat([df_players, df_AtpPlayers], ignore_index=True) # concat the scraping dataframe with the original one\n",
    "df_total_players.drop_duplicates(subset =\"AtpId\",keep = \"last\", inplace = True) # KEEP UNIQUE VALUES\n",
    "print(df_total_players.shape)\n",
    "df_total_players.head()"
   ]
  },
  {
   "cell_type": "code",
   "execution_count": 48,
   "metadata": {},
   "outputs": [],
   "source": [
    "df_total_players=df_total_players.sort_values([\"Name\",\"FirstName\"]).reset_index(drop=True)"
   ]
  },
  {
   "cell_type": "code",
   "execution_count": 49,
   "metadata": {},
   "outputs": [],
   "source": [
    "def duplicatedNames(df):\n",
    "    column=[df.loc[0,\"NewName\"]]\n",
    "    for i in range(1,len(df)):\n",
    "        j=0\n",
    "        while df.loc[i,\"NewName\"]in column:\n",
    "            df.loc[i,\"NewName\"]=df.loc[i,\"Name\"]+' '+df.loc[i,\"FirstName\"][0:j+1]+'.'\n",
    "            j+=1\n",
    "        \n",
    "        column.append(df.loc[i,\"NewName\"])\n",
    "    return column"
   ]
  },
  {
   "cell_type": "code",
   "execution_count": 50,
   "metadata": {},
   "outputs": [],
   "source": [
    "df_total_players[\"Name\"]=duplicatedNames(df_total_players)"
   ]
  },
  {
   "cell_type": "code",
   "execution_count": 51,
   "metadata": {},
   "outputs": [
    {
     "data": {
      "text/html": [
       "<div>\n",
       "<style scoped>\n",
       "    .dataframe tbody tr th:only-of-type {\n",
       "        vertical-align: middle;\n",
       "    }\n",
       "\n",
       "    .dataframe tbody tr th {\n",
       "        vertical-align: top;\n",
       "    }\n",
       "\n",
       "    .dataframe thead th {\n",
       "        text-align: right;\n",
       "    }\n",
       "</style>\n",
       "<table border=\"1\" class=\"dataframe\">\n",
       "  <thead>\n",
       "    <tr style=\"text-align: right;\">\n",
       "      <th></th>\n",
       "      <th>AtpId</th>\n",
       "      <th>AtpName</th>\n",
       "      <th>FirstName</th>\n",
       "      <th>Name</th>\n",
       "      <th>Height</th>\n",
       "      <th>Handedness</th>\n",
       "      <th>ActualRanking</th>\n",
       "    </tr>\n",
       "  </thead>\n",
       "  <tbody>\n",
       "    <tr>\n",
       "      <th>0</th>\n",
       "      <td>a451</td>\n",
       "      <td>bob-abbott</td>\n",
       "      <td>Bob</td>\n",
       "      <td>Abbott B.</td>\n",
       "      <td>0.0</td>\n",
       "      <td>NaN</td>\n",
       "      <td>NaN</td>\n",
       "    </tr>\n",
       "    <tr>\n",
       "      <th>1</th>\n",
       "      <td>a755</td>\n",
       "      <td>hashim-abdal</td>\n",
       "      <td>Hashim</td>\n",
       "      <td>Abdal H.</td>\n",
       "      <td>0.0</td>\n",
       "      <td>NaN</td>\n",
       "      <td>NaN</td>\n",
       "    </tr>\n",
       "    <tr>\n",
       "      <th>2</th>\n",
       "      <td>ad60</td>\n",
       "      <td>robert-abdesselam</td>\n",
       "      <td>Robert</td>\n",
       "      <td>Abdesselam R.</td>\n",
       "      <td>NaN</td>\n",
       "      <td>NaN</td>\n",
       "      <td>NaN</td>\n",
       "    </tr>\n",
       "    <tr>\n",
       "      <th>3</th>\n",
       "      <td>a742</td>\n",
       "      <td>ahmed-abdrabuh</td>\n",
       "      <td>Ahmed</td>\n",
       "      <td>Abdrabuh A.</td>\n",
       "      <td>0.0</td>\n",
       "      <td>NaN</td>\n",
       "      <td>NaN</td>\n",
       "    </tr>\n",
       "    <tr>\n",
       "      <th>4</th>\n",
       "      <td>a706</td>\n",
       "      <td>syrym-abdukhalikov</td>\n",
       "      <td>Syrym</td>\n",
       "      <td>Abdukhalikov S.</td>\n",
       "      <td>0.0</td>\n",
       "      <td>NaN</td>\n",
       "      <td>NaN</td>\n",
       "    </tr>\n",
       "  </tbody>\n",
       "</table>\n",
       "</div>"
      ],
      "text/plain": [
       "  AtpId             AtpName FirstName             Name  Height Handedness  \\\n",
       "0  a451          bob-abbott       Bob        Abbott B.     0.0        NaN   \n",
       "1  a755        hashim-abdal    Hashim         Abdal H.     0.0        NaN   \n",
       "2  ad60   robert-abdesselam    Robert    Abdesselam R.     NaN        NaN   \n",
       "3  a742      ahmed-abdrabuh     Ahmed      Abdrabuh A.     0.0        NaN   \n",
       "4  a706  syrym-abdukhalikov     Syrym  Abdukhalikov S.     0.0        NaN   \n",
       "\n",
       "   ActualRanking  \n",
       "0            NaN  \n",
       "1            NaN  \n",
       "2            NaN  \n",
       "3            NaN  \n",
       "4            NaN  "
      ]
     },
     "execution_count": 51,
     "metadata": {},
     "output_type": "execute_result"
    }
   ],
   "source": [
    "#df_total_players=df_total_players.drop([\"FirstName\"],axis=1) #column not needed anymore\n",
    "df_total_players=df_total_players.drop([\"NewName\"],axis=1) #column not needed anymore\n",
    "#df_players.rename(columns={'NewName':'Name'}, inplace=True) #column renamed\n",
    "df_total_players.head()"
   ]
  },
  {
   "cell_type": "code",
   "execution_count": 91,
   "metadata": {},
   "outputs": [
    {
     "data": {
      "text/html": [
       "<div>\n",
       "<style scoped>\n",
       "    .dataframe tbody tr th:only-of-type {\n",
       "        vertical-align: middle;\n",
       "    }\n",
       "\n",
       "    .dataframe tbody tr th {\n",
       "        vertical-align: top;\n",
       "    }\n",
       "\n",
       "    .dataframe thead th {\n",
       "        text-align: right;\n",
       "    }\n",
       "</style>\n",
       "<table border=\"1\" class=\"dataframe\">\n",
       "  <thead>\n",
       "    <tr style=\"text-align: right;\">\n",
       "      <th></th>\n",
       "      <th>AtpId</th>\n",
       "      <th>AtpName</th>\n",
       "      <th>FirstName</th>\n",
       "      <th>Name</th>\n",
       "      <th>Height</th>\n",
       "      <th>Handedness</th>\n",
       "      <th>ActualRanking</th>\n",
       "    </tr>\n",
       "  </thead>\n",
       "  <tbody>\n",
       "    <tr>\n",
       "      <th>5512</th>\n",
       "      <td>k737</td>\n",
       "      <td>alex-kuznetsov</td>\n",
       "      <td>Alex</td>\n",
       "      <td>Kuznetsov A.</td>\n",
       "      <td>183.0</td>\n",
       "      <td>Right-Handed</td>\n",
       "      <td>NaN</td>\n",
       "    </tr>\n",
       "    <tr>\n",
       "      <th>5513</th>\n",
       "      <td>kb54</td>\n",
       "      <td>andrey-kuznetsov</td>\n",
       "      <td>Andrey</td>\n",
       "      <td>Kuznetsov An.</td>\n",
       "      <td>NaN</td>\n",
       "      <td>NaN</td>\n",
       "      <td>569.0</td>\n",
       "    </tr>\n",
       "  </tbody>\n",
       "</table>\n",
       "</div>"
      ],
      "text/plain": [
       "     AtpId           AtpName FirstName           Name  Height    Handedness  \\\n",
       "5512  k737    alex-kuznetsov      Alex   Kuznetsov A.   183.0  Right-Handed   \n",
       "5513  kb54  andrey-kuznetsov    Andrey  Kuznetsov An.     NaN           NaN   \n",
       "\n",
       "      ActualRanking  \n",
       "5512            NaN  \n",
       "5513          569.0  "
      ]
     },
     "execution_count": 91,
     "metadata": {},
     "output_type": "execute_result"
    }
   ],
   "source": [
    "df_total_players[df_total_players[\"Name\"].str.contains(\"Kuznetsov\")]"
   ]
  },
  {
   "cell_type": "code",
   "execution_count": 53,
   "metadata": {},
   "outputs": [
    {
     "name": "stdout",
     "output_type": "stream",
     "text": [
      "(10911, 7)\n"
     ]
    }
   ],
   "source": [
    "print(df_players.shape)"
   ]
  },
  {
   "cell_type": "code",
   "execution_count": 54,
   "metadata": {},
   "outputs": [
    {
     "data": {
      "text/html": [
       "<div>\n",
       "<style scoped>\n",
       "    .dataframe tbody tr th:only-of-type {\n",
       "        vertical-align: middle;\n",
       "    }\n",
       "\n",
       "    .dataframe tbody tr th {\n",
       "        vertical-align: top;\n",
       "    }\n",
       "\n",
       "    .dataframe thead th {\n",
       "        text-align: right;\n",
       "    }\n",
       "</style>\n",
       "<table border=\"1\" class=\"dataframe\">\n",
       "  <thead>\n",
       "    <tr style=\"text-align: right;\">\n",
       "      <th></th>\n",
       "      <th>AtpId</th>\n",
       "      <th>AtpName</th>\n",
       "      <th>FirstName</th>\n",
       "      <th>Name</th>\n",
       "      <th>Height</th>\n",
       "      <th>Handedness</th>\n",
       "      <th>ActualRanking</th>\n",
       "    </tr>\n",
       "  </thead>\n",
       "  <tbody>\n",
       "    <tr>\n",
       "      <th>7064</th>\n",
       "      <td>n409</td>\n",
       "      <td>rafael-nadal</td>\n",
       "      <td>Rafael</td>\n",
       "      <td>Nadal R.</td>\n",
       "      <td>NaN</td>\n",
       "      <td>NaN</td>\n",
       "      <td>2.0</td>\n",
       "    </tr>\n",
       "  </tbody>\n",
       "</table>\n",
       "</div>"
      ],
      "text/plain": [
       "     AtpId       AtpName FirstName      Name  Height Handedness  ActualRanking\n",
       "7064  n409  rafael-nadal    Rafael  Nadal R.     NaN        NaN            2.0"
      ]
     },
     "execution_count": 54,
     "metadata": {},
     "output_type": "execute_result"
    }
   ],
   "source": [
    "df_total_players[df_total_players[\"Name\"]==\"Nadal R.\"]"
   ]
  },
  {
   "cell_type": "markdown",
   "metadata": {},
   "source": [
    "### Select only commun players"
   ]
  },
  {
   "cell_type": "code",
   "execution_count": 61,
   "metadata": {},
   "outputs": [],
   "source": [
    "df_selected_players=df_total_players[df_total_players[\"Name\"].isin(df_betting_players['Winner'])| df_total_players[\"Name\"].isin(df_betting_players['Loser'])].reset_index(drop=True) "
   ]
  },
  {
   "cell_type": "code",
   "execution_count": 62,
   "metadata": {},
   "outputs": [
    {
     "name": "stdout",
     "output_type": "stream",
     "text": [
      "(1201, 7)\n"
     ]
    }
   ],
   "source": [
    "print(df_selected_players.shape)"
   ]
  },
  {
   "cell_type": "markdown",
   "metadata": {},
   "source": [
    "Height, Handedness and Backhand are interesting criterias to analyse but we saw in the model prediction notebook that backhand had too many 'Nan' values even after scraping. Thanks to the AtId and AtpNAme we scraped on the website https://www.atptour.com/ "
   ]
  },
  {
   "cell_type": "code",
   "execution_count": 63,
   "metadata": {},
   "outputs": [],
   "source": [
    "def scraping(atpId,atpName,height,handedness):\n",
    "    \n",
    "    try:\n",
    "        url_atp = 'https://www.atptour.com/en/players/'+atpName+'/'+atpId+'/overview'\n",
    "        req = Request(url_atp, headers={'User-Agent': 'Mozilla/5.0'})\n",
    "        webpage = urlopen(req).read()\n",
    "        soup = BeautifulSoup(webpage, 'html.parser')\n",
    "\n",
    "        if ((height!=height) or (height==0.0)): #check NaN value or height equals to 0\n",
    "            try:\n",
    "                height = soup.find( attrs={'class': 'table-height-cm-wrapper'}).get_text()\n",
    "                height= height.replace('(','').replace(')','').replace('cm','')\n",
    "                if str(height)=='0':\n",
    "                    height=np.nan\n",
    "                else:\n",
    "                    height=height\n",
    "            except AttributeError:\n",
    "                height=np.nan\n",
    "        else:\n",
    "            height=height\n",
    "\n",
    "        if handedness!=handedness: #check NaN value\n",
    "            try:\n",
    "                plays= soup.find_all( attrs={'class':\"table-value\"})\n",
    "                if len(plays)>=2:\n",
    "                    plays=plays[2].get_text()\n",
    "                    if len(plays)>1:\n",
    "                        plays=plays.split(\", \")\n",
    "\n",
    "                        handedness=plays[0].replace(\"\\r\",\"\")\n",
    "                        handedness=handedness.replace(\"\\n\",\"\")  \n",
    "                    else:\n",
    "                        handedness=plays.replace(\"\\r\",\"\")\n",
    "                        handedness=handedness.replace(\"\\n\",\"\")\n",
    "                    if handedness=='':\n",
    "                        handedness=np.nan\n",
    "                    else:\n",
    "                        handedness=handedness\n",
    "                else:\n",
    "                    handedness=np.nan\n",
    "            except AttributeError:\n",
    "                handedness=np.nan\n",
    "        else:\n",
    "            handedness=handedness\n",
    "\n",
    "        \n",
    "    except:\n",
    "        height=handedness=np.nan\n",
    "    \n",
    "    \n",
    "    \n",
    "    return height,handedness"
   ]
  },
  {
   "cell_type": "code",
   "execution_count": 64,
   "metadata": {},
   "outputs": [],
   "source": [
    "def UpdateRanking(atpId,atpName):\n",
    "    url_atp = 'https://www.atptour.com/en/players/'+atpName+'/'+atpId+'/overview'\n",
    "    req = Request(url_atp, headers={'User-Agent': 'Mozilla/5.0'})\n",
    "    webpage = urlopen(req).read()\n",
    "    soup = BeautifulSoup(webpage, 'html.parser')\n",
    "    try:\n",
    "        Ranking = soup.find( attrs={'class': 'data-number'}).get_text()\n",
    "    except:\n",
    "        Ranking=np.nan\n",
    "    try:\n",
    "        int(Ranking)\n",
    "        return Ranking\n",
    "    except ValueError: #For inactive players \n",
    "        return np.nan"
   ]
  },
  {
   "cell_type": "code",
   "execution_count": null,
   "metadata": {},
   "outputs": [],
   "source": []
  },
  {
   "cell_type": "code",
   "execution_count": 65,
   "metadata": {},
   "outputs": [
    {
     "data": {
      "text/plain": [
       "AtpId             object\n",
       "AtpName           object\n",
       "FirstName         object\n",
       "Name              object\n",
       "Height           float64\n",
       "Handedness        object\n",
       "ActualRanking    float64\n",
       "dtype: object"
      ]
     },
     "execution_count": 65,
     "metadata": {},
     "output_type": "execute_result"
    }
   ],
   "source": [
    "df_selected_players.dtypes"
   ]
  },
  {
   "cell_type": "code",
   "execution_count": 66,
   "metadata": {},
   "outputs": [
    {
     "data": {
      "text/html": [
       "<div>\n",
       "<style scoped>\n",
       "    .dataframe tbody tr th:only-of-type {\n",
       "        vertical-align: middle;\n",
       "    }\n",
       "\n",
       "    .dataframe tbody tr th {\n",
       "        vertical-align: top;\n",
       "    }\n",
       "\n",
       "    .dataframe thead th {\n",
       "        text-align: right;\n",
       "    }\n",
       "</style>\n",
       "<table border=\"1\" class=\"dataframe\">\n",
       "  <thead>\n",
       "    <tr style=\"text-align: right;\">\n",
       "      <th></th>\n",
       "      <th>AtpId</th>\n",
       "      <th>AtpName</th>\n",
       "      <th>FirstName</th>\n",
       "      <th>Name</th>\n",
       "      <th>Height</th>\n",
       "      <th>Handedness</th>\n",
       "      <th>ActualRanking</th>\n",
       "    </tr>\n",
       "  </thead>\n",
       "  <tbody>\n",
       "    <tr>\n",
       "      <th>0</th>\n",
       "      <td>a618</td>\n",
       "      <td>mohammed-abdulla</td>\n",
       "      <td>Mohammed</td>\n",
       "      <td>Abdulla M.</td>\n",
       "      <td>NaN</td>\n",
       "      <td>NaN</td>\n",
       "      <td>NaN</td>\n",
       "    </tr>\n",
       "    <tr>\n",
       "      <th>1</th>\n",
       "      <td>a391</td>\n",
       "      <td>maximilian-abel</td>\n",
       "      <td>Maximilian</td>\n",
       "      <td>Abel M.</td>\n",
       "      <td>NaN</td>\n",
       "      <td>Right-Handed</td>\n",
       "      <td>NaN</td>\n",
       "    </tr>\n",
       "    <tr>\n",
       "      <th>2</th>\n",
       "      <td>a389</td>\n",
       "      <td>jose-acasuso</td>\n",
       "      <td>Jose</td>\n",
       "      <td>Acasuso J.</td>\n",
       "      <td>191</td>\n",
       "      <td>Right-Handed</td>\n",
       "      <td>NaN</td>\n",
       "    </tr>\n",
       "    <tr>\n",
       "      <th>3</th>\n",
       "      <td>a305</td>\n",
       "      <td>jacob-adaktusson</td>\n",
       "      <td>Jacob</td>\n",
       "      <td>Adaktusson J.</td>\n",
       "      <td>193</td>\n",
       "      <td>Right-Handed</td>\n",
       "      <td>NaN</td>\n",
       "    </tr>\n",
       "    <tr>\n",
       "      <th>4</th>\n",
       "      <td>a310</td>\n",
       "      <td>emin-agaev</td>\n",
       "      <td>Emin</td>\n",
       "      <td>Agaev E.</td>\n",
       "      <td>NaN</td>\n",
       "      <td>Right-Handed</td>\n",
       "      <td>NaN</td>\n",
       "    </tr>\n",
       "  </tbody>\n",
       "</table>\n",
       "</div>"
      ],
      "text/plain": [
       "  AtpId           AtpName   FirstName           Name Height    Handedness  \\\n",
       "0  a618  mohammed-abdulla    Mohammed     Abdulla M.    NaN           NaN   \n",
       "1  a391   maximilian-abel  Maximilian        Abel M.    NaN  Right-Handed   \n",
       "2  a389      jose-acasuso        Jose     Acasuso J.    191  Right-Handed   \n",
       "3  a305  jacob-adaktusson       Jacob  Adaktusson J.    193  Right-Handed   \n",
       "4  a310        emin-agaev        Emin       Agaev E.    NaN  Right-Handed   \n",
       "\n",
       "   ActualRanking  \n",
       "0            NaN  \n",
       "1            NaN  \n",
       "2            NaN  \n",
       "3            NaN  \n",
       "4            NaN  "
      ]
     },
     "execution_count": 66,
     "metadata": {},
     "output_type": "execute_result"
    }
   ],
   "source": [
    "df_selected_players[['Height','Handedness']]=df_selected_players.apply(lambda x : scraping(x['AtpId'],x['AtpName'],x['Height'],x['Handedness']),axis=1, result_type=\"expand\")\n",
    "df_selected_players.head()"
   ]
  },
  {
   "cell_type": "code",
   "execution_count": 467,
   "metadata": {},
   "outputs": [],
   "source": [
    "df_selected_players[\"Height\"] = df_selected_players.Height.astype(float) # convert to float"
   ]
  },
  {
   "cell_type": "code",
   "execution_count": 67,
   "metadata": {},
   "outputs": [],
   "source": [
    "df_selected_players['Id']=df_selected_players.index"
   ]
  },
  {
   "cell_type": "code",
   "execution_count": 68,
   "metadata": {},
   "outputs": [],
   "source": [
    "df_copy=df_selected_players.copy()"
   ]
  },
  {
   "cell_type": "code",
   "execution_count": 69,
   "metadata": {},
   "outputs": [
    {
     "data": {
      "text/html": [
       "<div>\n",
       "<style scoped>\n",
       "    .dataframe tbody tr th:only-of-type {\n",
       "        vertical-align: middle;\n",
       "    }\n",
       "\n",
       "    .dataframe tbody tr th {\n",
       "        vertical-align: top;\n",
       "    }\n",
       "\n",
       "    .dataframe thead th {\n",
       "        text-align: right;\n",
       "    }\n",
       "</style>\n",
       "<table border=\"1\" class=\"dataframe\">\n",
       "  <thead>\n",
       "    <tr style=\"text-align: right;\">\n",
       "      <th></th>\n",
       "      <th>AtpId</th>\n",
       "      <th>AtpName</th>\n",
       "      <th>FirstName</th>\n",
       "      <th>Name</th>\n",
       "      <th>Height</th>\n",
       "      <th>Handedness</th>\n",
       "      <th>ActualRanking</th>\n",
       "      <th>Id</th>\n",
       "    </tr>\n",
       "  </thead>\n",
       "  <tbody>\n",
       "    <tr>\n",
       "      <th>0</th>\n",
       "      <td>a618</td>\n",
       "      <td>mohammed-abdulla</td>\n",
       "      <td>Mohammed</td>\n",
       "      <td>Abdulla M.</td>\n",
       "      <td>NaN</td>\n",
       "      <td>NaN</td>\n",
       "      <td>NaN</td>\n",
       "      <td>0</td>\n",
       "    </tr>\n",
       "    <tr>\n",
       "      <th>1</th>\n",
       "      <td>a391</td>\n",
       "      <td>maximilian-abel</td>\n",
       "      <td>Maximilian</td>\n",
       "      <td>Abel M.</td>\n",
       "      <td>NaN</td>\n",
       "      <td>Right-Handed</td>\n",
       "      <td>NaN</td>\n",
       "      <td>1</td>\n",
       "    </tr>\n",
       "    <tr>\n",
       "      <th>2</th>\n",
       "      <td>a389</td>\n",
       "      <td>jose-acasuso</td>\n",
       "      <td>Jose</td>\n",
       "      <td>Acasuso J.</td>\n",
       "      <td>191</td>\n",
       "      <td>Right-Handed</td>\n",
       "      <td>NaN</td>\n",
       "      <td>2</td>\n",
       "    </tr>\n",
       "    <tr>\n",
       "      <th>3</th>\n",
       "      <td>a305</td>\n",
       "      <td>jacob-adaktusson</td>\n",
       "      <td>Jacob</td>\n",
       "      <td>Adaktusson J.</td>\n",
       "      <td>193</td>\n",
       "      <td>Right-Handed</td>\n",
       "      <td>NaN</td>\n",
       "      <td>3</td>\n",
       "    </tr>\n",
       "    <tr>\n",
       "      <th>4</th>\n",
       "      <td>a310</td>\n",
       "      <td>emin-agaev</td>\n",
       "      <td>Emin</td>\n",
       "      <td>Agaev E.</td>\n",
       "      <td>NaN</td>\n",
       "      <td>Right-Handed</td>\n",
       "      <td>NaN</td>\n",
       "      <td>4</td>\n",
       "    </tr>\n",
       "  </tbody>\n",
       "</table>\n",
       "</div>"
      ],
      "text/plain": [
       "  AtpId           AtpName   FirstName           Name Height    Handedness  \\\n",
       "0  a618  mohammed-abdulla    Mohammed     Abdulla M.    NaN           NaN   \n",
       "1  a391   maximilian-abel  Maximilian        Abel M.    NaN  Right-Handed   \n",
       "2  a389      jose-acasuso        Jose     Acasuso J.    191  Right-Handed   \n",
       "3  a305  jacob-adaktusson       Jacob  Adaktusson J.    193  Right-Handed   \n",
       "4  a310        emin-agaev        Emin       Agaev E.    NaN  Right-Handed   \n",
       "\n",
       "   ActualRanking  Id  \n",
       "0            NaN   0  \n",
       "1            NaN   1  \n",
       "2            NaN   2  \n",
       "3            NaN   3  \n",
       "4            NaN   4  "
      ]
     },
     "execution_count": 69,
     "metadata": {},
     "output_type": "execute_result"
    }
   ],
   "source": [
    "df_selected_players.head()"
   ]
  },
  {
   "cell_type": "markdown",
   "metadata": {},
   "source": [
    "## Model Dataframe"
   ]
  },
  {
   "cell_type": "markdown",
   "metadata": {},
   "source": [
    "### Clean Dataframe"
   ]
  },
  {
   "cell_type": "markdown",
   "metadata": {},
   "source": [
    "We can notice that depending the year, Betting Broker are not the same. So it's better to use the Min/Max and Average of betting odds. "
   ]
  },
  {
   "cell_type": "code",
   "execution_count": 118,
   "metadata": {
    "scrolled": true
   },
   "outputs": [],
   "source": [
    "#Fill NaN values\n",
    "df_betting['MaxW']=df_betting['MaxW'].fillna(round(df_betting[['B365W', 'CBW', 'GBW', 'IWW','SBW', 'B&WW', 'EXW', 'PSW', 'UBW', 'LBW', 'SJW']].max(axis=1),2))\n",
    "df_betting['MaxL']=df_betting['MaxL'].fillna(round(df_betting[['B365L', 'CBL', 'GBL', 'IWL','SBL', 'B&WL', 'EXL', 'PSL', 'UBL', 'LBL', 'SJL']].max(axis=1),2))\n",
    "df_betting['AvgW']=df_betting['AvgW'].fillna(round(df_betting[['B365W', 'CBW', 'GBW', 'IWW','SBW', 'B&WW', 'EXW', 'PSW', 'UBW', 'LBW', 'SJW']].mean(axis=1),2))\n",
    "df_betting['AvgL']=df_betting['AvgL'].fillna(round(df_betting[['B365L', 'CBL', 'GBL', 'IWL','SBL', 'B&WL', 'EXL', 'PSL', 'UBL', 'LBL', 'SJL']].mean(axis=1),2))"
   ]
  },
  {
   "cell_type": "code",
   "execution_count": 119,
   "metadata": {
    "scrolled": true
   },
   "outputs": [],
   "source": [
    "# drop useless datas\n",
    "df_betting=df_betting[df_betting['MaxW'].notna() & df_betting['MaxL'].notna()] # select rows where betting odds are present\n",
    "df_betting=df_betting.drop(df_betting[df_betting[\"Comment\"]!=\"Completed\"].index) #keep only completed matches\n",
    "df_betting=df_betting.drop(['Comment','Date','ATP','Best of'],axis=1) # drop useless columns\n",
    "df_betting=df_betting.drop(['B365W', 'CBW', 'GBW', 'IWW','SBW', 'B&WW', 'EXW', 'PSW', 'UBW', 'LBW', 'SJW','B365L', 'CBL', 'GBL', 'IWL','SBL', 'B&WL', 'EXL', 'PSL', 'UBL', 'LBL', 'SJL'],axis=1)\n",
    "df_betting=df_betting.drop(['W1','L1','W2','L2','W3','L3','W4','L4','W5','L5','Wsets','Lsets','WPts','LPts'],axis=1)\n",
    "df_betting=df_betting.drop(df_betting[(df_betting[\"WRank\"]=='NR') |  (df_betting[\"LRank\"]=='NR')].index) # drop matches with No ranked players\n",
    "df_betting=df_betting.dropna()\n",
    "df_betting[\"LRank\"] = df_betting.LRank.astype(float)# no more 'NR' players so we can convert into float"
   ]
  },
  {
   "cell_type": "markdown",
   "metadata": {},
   "source": [
    "### Preprocessing data"
   ]
  },
  {
   "cell_type": "code",
   "execution_count": 120,
   "metadata": {
    "scrolled": true
   },
   "outputs": [],
   "source": [
    "#Keep same syntax for player Name in order to have an unique ID for each player\n",
    "df_betting[\"Winner\"]=df_betting[\"Winner\"].apply(lambda x: checkName(x))\n",
    "df_betting[\"Loser\"]=df_betting[\"Loser\"].apply(lambda x: checkName(x))"
   ]
  },
  {
   "cell_type": "code",
   "execution_count": 121,
   "metadata": {
    "scrolled": true
   },
   "outputs": [],
   "source": [
    "#Some Series have been renamed over years\n",
    "df_betting['Series'].replace({\"International Gold\":\"ATP500\",\"Masters Cup\":\"ATP Finals\",\"Masters\":\"ATP Finals\"},inplace =True)\n",
    "#Delete ended white space\n",
    "df_betting['Location']=df_betting['Location'].apply(lambda x : x.rstrip())"
   ]
  },
  {
   "cell_type": "code",
   "execution_count": 122,
   "metadata": {
    "scrolled": true
   },
   "outputs": [],
   "source": [
    "#Rename columns: Winner -> Player1 & Loser -> Player2\n",
    "df_betting.rename(columns={'Winner':'Player1','Loser':'Player2','WRank':'P1Rank','LRank':'P2Rank','MaxW':'MaxP1','MaxL':'MaxP2','AvgW':'AvgP1','AvgL':'AvgP2'}, inplace=True)\n",
    "#Create the column for the label prediction: Player1 Win\n",
    "df_betting['P1Winner']=1 "
   ]
  },
  {
   "cell_type": "markdown",
   "metadata": {},
   "source": [
    "In the actual format all winners are Player 1, it will be a problem for the model.\n",
    "So for random rows, Players 1 and Player 2 datas are switched"
   ]
  },
  {
   "cell_type": "code",
   "execution_count": 123,
   "metadata": {
    "scrolled": true
   },
   "outputs": [],
   "source": [
    "mask=df_betting.sample(frac=.5).index\n",
    "df_betting.loc[mask,['Player1','Player2','P1Rank','P2Rank','MaxP1','MaxP2','AvgP1','AvgP2']] = df_betting.loc[mask,['Player2','Player1','P2Rank','P1Rank','MaxP2','MaxP1','AvgP2','AvgP1']].values\n",
    "df_betting.loc[mask,['P1Winner']]=0"
   ]
  },
  {
   "cell_type": "code",
   "execution_count": 124,
   "metadata": {
    "scrolled": true
   },
   "outputs": [],
   "source": [
    "df_betting=df_betting.merge(df_selected_players,left_on='Player1',right_on=\"Name\", how='left',suffixes=['P2','P1']) #first merge for winner player\n",
    "df_betting=df_betting.merge(df_selected_players,left_on='Player2',right_on=\"Name\", how='left',suffixes=['P1','P2'])#second merge for loser player"
   ]
  },
  {
   "cell_type": "code",
   "execution_count": 125,
   "metadata": {},
   "outputs": [],
   "source": [
    "df_betting=df_betting.drop(['FirstNameP1','FirstNameP2','NameP1','NameP2',\"AtpIdP1\",\"AtpIdP2\",\"ActualRankingP1\",\"ActualRankingP2\",\"AtpNameP1\",\"AtpNameP2\",\"Player1\",\"Player2\"],axis=1) # keep only the player ID\n",
    "df_betting=df_betting.dropna() # delete rows with NaN values\n",
    "df_betting=df_betting.drop_duplicates() #delete duplicated rows"
   ]
  },
  {
   "cell_type": "code",
   "execution_count": 132,
   "metadata": {},
   "outputs": [],
   "source": [
    "df_betting[\"HeightP1\"] = df_betting.HeightP1.astype(float) # convert to float\n",
    "df_betting[\"HeightP2\"] = df_betting.HeightP2.astype(float) # convert to float"
   ]
  },
  {
   "cell_type": "code",
   "execution_count": 126,
   "metadata": {},
   "outputs": [
    {
     "data": {
      "text/html": [
       "<div>\n",
       "<style scoped>\n",
       "    .dataframe tbody tr th:only-of-type {\n",
       "        vertical-align: middle;\n",
       "    }\n",
       "\n",
       "    .dataframe tbody tr th {\n",
       "        vertical-align: top;\n",
       "    }\n",
       "\n",
       "    .dataframe thead th {\n",
       "        text-align: right;\n",
       "    }\n",
       "</style>\n",
       "<table border=\"1\" class=\"dataframe\">\n",
       "  <thead>\n",
       "    <tr style=\"text-align: right;\">\n",
       "      <th></th>\n",
       "      <th>Location</th>\n",
       "      <th>Tournament</th>\n",
       "      <th>Series</th>\n",
       "      <th>Court</th>\n",
       "      <th>Surface</th>\n",
       "      <th>Round</th>\n",
       "      <th>P1Rank</th>\n",
       "      <th>P2Rank</th>\n",
       "      <th>MaxP1</th>\n",
       "      <th>MaxP2</th>\n",
       "      <th>AvgP1</th>\n",
       "      <th>AvgP2</th>\n",
       "      <th>P1Winner</th>\n",
       "      <th>HeightP1</th>\n",
       "      <th>HandednessP1</th>\n",
       "      <th>IdP1</th>\n",
       "      <th>HeightP2</th>\n",
       "      <th>HandednessP2</th>\n",
       "      <th>IdP2</th>\n",
       "    </tr>\n",
       "  </thead>\n",
       "  <tbody>\n",
       "    <tr>\n",
       "      <th>0</th>\n",
       "      <td>Adelaide</td>\n",
       "      <td>AAPT Championships</td>\n",
       "      <td>International</td>\n",
       "      <td>Outdoor</td>\n",
       "      <td>Hard</td>\n",
       "      <td>1st Round</td>\n",
       "      <td>25.0</td>\n",
       "      <td>46.0</td>\n",
       "      <td>1.60</td>\n",
       "      <td>2.20</td>\n",
       "      <td>1.55</td>\n",
       "      <td>2.17</td>\n",
       "      <td>1</td>\n",
       "      <td>175</td>\n",
       "      <td>Left-Handed</td>\n",
       "      <td>37.0</td>\n",
       "      <td>185</td>\n",
       "      <td>Right-Handed</td>\n",
       "      <td>575.0</td>\n",
       "    </tr>\n",
       "    <tr>\n",
       "      <th>1</th>\n",
       "      <td>Adelaide</td>\n",
       "      <td>AAPT Championships</td>\n",
       "      <td>International</td>\n",
       "      <td>Outdoor</td>\n",
       "      <td>Hard</td>\n",
       "      <td>1st Round</td>\n",
       "      <td>309.0</td>\n",
       "      <td>9.0</td>\n",
       "      <td>4.25</td>\n",
       "      <td>1.15</td>\n",
       "      <td>4.25</td>\n",
       "      <td>1.15</td>\n",
       "      <td>0</td>\n",
       "      <td>196</td>\n",
       "      <td>Right-Handed</td>\n",
       "      <td>342.0</td>\n",
       "      <td>185</td>\n",
       "      <td>Right-Handed</td>\n",
       "      <td>448.0</td>\n",
       "    </tr>\n",
       "    <tr>\n",
       "      <th>2</th>\n",
       "      <td>Adelaide</td>\n",
       "      <td>AAPT Championships</td>\n",
       "      <td>International</td>\n",
       "      <td>Outdoor</td>\n",
       "      <td>Hard</td>\n",
       "      <td>1st Round</td>\n",
       "      <td>10.0</td>\n",
       "      <td>57.0</td>\n",
       "      <td>1.36</td>\n",
       "      <td>3.80</td>\n",
       "      <td>1.30</td>\n",
       "      <td>3.09</td>\n",
       "      <td>0</td>\n",
       "      <td>185</td>\n",
       "      <td>Right-Handed</td>\n",
       "      <td>941.0</td>\n",
       "      <td>188</td>\n",
       "      <td>Right-Handed</td>\n",
       "      <td>679.0</td>\n",
       "    </tr>\n",
       "    <tr>\n",
       "      <th>3</th>\n",
       "      <td>Adelaide</td>\n",
       "      <td>AAPT Championships</td>\n",
       "      <td>International</td>\n",
       "      <td>Outdoor</td>\n",
       "      <td>Hard</td>\n",
       "      <td>1st Round</td>\n",
       "      <td>93.0</td>\n",
       "      <td>80.0</td>\n",
       "      <td>2.55</td>\n",
       "      <td>1.50</td>\n",
       "      <td>2.35</td>\n",
       "      <td>1.47</td>\n",
       "      <td>0</td>\n",
       "      <td>183</td>\n",
       "      <td>Right-Handed</td>\n",
       "      <td>959.0</td>\n",
       "      <td>183</td>\n",
       "      <td>Right-Handed</td>\n",
       "      <td>682.0</td>\n",
       "    </tr>\n",
       "    <tr>\n",
       "      <th>4</th>\n",
       "      <td>Adelaide</td>\n",
       "      <td>AAPT Championships</td>\n",
       "      <td>International</td>\n",
       "      <td>Outdoor</td>\n",
       "      <td>Hard</td>\n",
       "      <td>1st Round</td>\n",
       "      <td>104.0</td>\n",
       "      <td>53.0</td>\n",
       "      <td>1.50</td>\n",
       "      <td>2.40</td>\n",
       "      <td>1.50</td>\n",
       "      <td>2.27</td>\n",
       "      <td>1</td>\n",
       "      <td>196</td>\n",
       "      <td>Right-Handed</td>\n",
       "      <td>839.0</td>\n",
       "      <td>191</td>\n",
       "      <td>Right-Handed</td>\n",
       "      <td>128.0</td>\n",
       "    </tr>\n",
       "    <tr>\n",
       "      <th>5</th>\n",
       "      <td>Adelaide</td>\n",
       "      <td>AAPT Championships</td>\n",
       "      <td>International</td>\n",
       "      <td>Outdoor</td>\n",
       "      <td>Hard</td>\n",
       "      <td>2nd Round</td>\n",
       "      <td>25.0</td>\n",
       "      <td>150.0</td>\n",
       "      <td>1.45</td>\n",
       "      <td>2.75</td>\n",
       "      <td>1.43</td>\n",
       "      <td>2.53</td>\n",
       "      <td>1</td>\n",
       "      <td>175</td>\n",
       "      <td>Left-Handed</td>\n",
       "      <td>37.0</td>\n",
       "      <td>185</td>\n",
       "      <td>Right-Handed</td>\n",
       "      <td>684.0</td>\n",
       "    </tr>\n",
       "    <tr>\n",
       "      <th>6</th>\n",
       "      <td>Adelaide</td>\n",
       "      <td>AAPT Championships</td>\n",
       "      <td>International</td>\n",
       "      <td>Outdoor</td>\n",
       "      <td>Hard</td>\n",
       "      <td>2nd Round</td>\n",
       "      <td>24.0</td>\n",
       "      <td>50.0</td>\n",
       "      <td>1.33</td>\n",
       "      <td>3.20</td>\n",
       "      <td>1.31</td>\n",
       "      <td>2.92</td>\n",
       "      <td>1</td>\n",
       "      <td>191</td>\n",
       "      <td>Right-Handed</td>\n",
       "      <td>305.0</td>\n",
       "      <td>188</td>\n",
       "      <td>Left-Handed</td>\n",
       "      <td>391.0</td>\n",
       "    </tr>\n",
       "    <tr>\n",
       "      <th>7</th>\n",
       "      <td>Adelaide</td>\n",
       "      <td>AAPT Championships</td>\n",
       "      <td>International</td>\n",
       "      <td>Outdoor</td>\n",
       "      <td>Hard</td>\n",
       "      <td>2nd Round</td>\n",
       "      <td>37.0</td>\n",
       "      <td>80.0</td>\n",
       "      <td>1.60</td>\n",
       "      <td>2.38</td>\n",
       "      <td>1.54</td>\n",
       "      <td>2.22</td>\n",
       "      <td>1</td>\n",
       "      <td>193</td>\n",
       "      <td>Right-Handed</td>\n",
       "      <td>632.0</td>\n",
       "      <td>183</td>\n",
       "      <td>Right-Handed</td>\n",
       "      <td>682.0</td>\n",
       "    </tr>\n",
       "    <tr>\n",
       "      <th>9</th>\n",
       "      <td>Adelaide</td>\n",
       "      <td>AAPT Championships</td>\n",
       "      <td>International</td>\n",
       "      <td>Outdoor</td>\n",
       "      <td>Hard</td>\n",
       "      <td>2nd Round</td>\n",
       "      <td>57.0</td>\n",
       "      <td>89.0</td>\n",
       "      <td>1.40</td>\n",
       "      <td>2.75</td>\n",
       "      <td>1.38</td>\n",
       "      <td>2.62</td>\n",
       "      <td>1</td>\n",
       "      <td>188</td>\n",
       "      <td>Right-Handed</td>\n",
       "      <td>679.0</td>\n",
       "      <td>191</td>\n",
       "      <td>Left-Handed</td>\n",
       "      <td>633.0</td>\n",
       "    </tr>\n",
       "    <tr>\n",
       "      <th>10</th>\n",
       "      <td>Adelaide</td>\n",
       "      <td>AAPT Championships</td>\n",
       "      <td>International</td>\n",
       "      <td>Outdoor</td>\n",
       "      <td>Hard</td>\n",
       "      <td>2nd Round</td>\n",
       "      <td>104.0</td>\n",
       "      <td>26.0</td>\n",
       "      <td>1.65</td>\n",
       "      <td>2.10</td>\n",
       "      <td>1.65</td>\n",
       "      <td>1.98</td>\n",
       "      <td>1</td>\n",
       "      <td>196</td>\n",
       "      <td>Right-Handed</td>\n",
       "      <td>839.0</td>\n",
       "      <td>193</td>\n",
       "      <td>Right-Handed</td>\n",
       "      <td>960.0</td>\n",
       "    </tr>\n",
       "  </tbody>\n",
       "</table>\n",
       "</div>"
      ],
      "text/plain": [
       "    Location          Tournament         Series    Court Surface      Round  \\\n",
       "0   Adelaide  AAPT Championships  International  Outdoor    Hard  1st Round   \n",
       "1   Adelaide  AAPT Championships  International  Outdoor    Hard  1st Round   \n",
       "2   Adelaide  AAPT Championships  International  Outdoor    Hard  1st Round   \n",
       "3   Adelaide  AAPT Championships  International  Outdoor    Hard  1st Round   \n",
       "4   Adelaide  AAPT Championships  International  Outdoor    Hard  1st Round   \n",
       "5   Adelaide  AAPT Championships  International  Outdoor    Hard  2nd Round   \n",
       "6   Adelaide  AAPT Championships  International  Outdoor    Hard  2nd Round   \n",
       "7   Adelaide  AAPT Championships  International  Outdoor    Hard  2nd Round   \n",
       "9   Adelaide  AAPT Championships  International  Outdoor    Hard  2nd Round   \n",
       "10  Adelaide  AAPT Championships  International  Outdoor    Hard  2nd Round   \n",
       "\n",
       "    P1Rank  P2Rank  MaxP1  MaxP2  AvgP1  AvgP2  P1Winner HeightP1  \\\n",
       "0     25.0    46.0   1.60   2.20   1.55   2.17         1      175   \n",
       "1    309.0     9.0   4.25   1.15   4.25   1.15         0      196   \n",
       "2     10.0    57.0   1.36   3.80   1.30   3.09         0      185   \n",
       "3     93.0    80.0   2.55   1.50   2.35   1.47         0      183   \n",
       "4    104.0    53.0   1.50   2.40   1.50   2.27         1      196   \n",
       "5     25.0   150.0   1.45   2.75   1.43   2.53         1      175   \n",
       "6     24.0    50.0   1.33   3.20   1.31   2.92         1      191   \n",
       "7     37.0    80.0   1.60   2.38   1.54   2.22         1      193   \n",
       "9     57.0    89.0   1.40   2.75   1.38   2.62         1      188   \n",
       "10   104.0    26.0   1.65   2.10   1.65   1.98         1      196   \n",
       "\n",
       "    HandednessP1   IdP1 HeightP2  HandednessP2   IdP2  \n",
       "0    Left-Handed   37.0      185  Right-Handed  575.0  \n",
       "1   Right-Handed  342.0      185  Right-Handed  448.0  \n",
       "2   Right-Handed  941.0      188  Right-Handed  679.0  \n",
       "3   Right-Handed  959.0      183  Right-Handed  682.0  \n",
       "4   Right-Handed  839.0      191  Right-Handed  128.0  \n",
       "5    Left-Handed   37.0      185  Right-Handed  684.0  \n",
       "6   Right-Handed  305.0      188   Left-Handed  391.0  \n",
       "7   Right-Handed  632.0      183  Right-Handed  682.0  \n",
       "9   Right-Handed  679.0      191   Left-Handed  633.0  \n",
       "10  Right-Handed  839.0      193  Right-Handed  960.0  "
      ]
     },
     "execution_count": 126,
     "metadata": {},
     "output_type": "execute_result"
    }
   ],
   "source": [
    "df_betting.head(10)"
   ]
  },
  {
   "cell_type": "code",
   "execution_count": null,
   "metadata": {},
   "outputs": [],
   "source": []
  },
  {
   "cell_type": "markdown",
   "metadata": {},
   "source": [
    "Columns label encoding"
   ]
  },
  {
   "cell_type": "code",
   "execution_count": 140,
   "metadata": {},
   "outputs": [],
   "source": [
    "label_dictionnary=[] "
   ]
  },
  {
   "cell_type": "code",
   "execution_count": 142,
   "metadata": {
    "scrolled": true
   },
   "outputs": [],
   "source": [
    "def Labelizer(column):\n",
    "    label=sorted(column.unique())\n",
    "    dictionnary = { val : idx for idx,val in enumerate(label) }\n",
    "    label_dictionnary.append(dictionnary) #save label encoder for validation test\n",
    "    colLab=column.map(dictionnary)\n",
    "    return colLab"
   ]
  },
  {
   "cell_type": "code",
   "execution_count": null,
   "metadata": {},
   "outputs": [],
   "source": []
  },
  {
   "cell_type": "code",
   "execution_count": 481,
   "metadata": {
    "scrolled": true
   },
   "outputs": [],
   "source": [
    "df_betting=df_betting.apply(lambda x: Labelizer(x) if x.dtype==object else x,axis=0)"
   ]
  },
  {
   "cell_type": "markdown",
   "metadata": {},
   "source": [
    "## Model"
   ]
  },
  {
   "cell_type": "markdown",
   "metadata": {},
   "source": [
    "### Multilayers perceptron"
   ]
  },
  {
   "cell_type": "code",
   "execution_count": null,
   "metadata": {},
   "outputs": [],
   "source": [
    "X=df_betting.drop(['Tournament','Round','P1Winner'],axis=1)\n",
    "y=df_betting['P1Winner']\n",
    "\n",
    "\n",
    "Ml_model=tf.keras.Sequential([\n",
    "    tf.keras.layers.Dense(16,input_dim=z.shape[1],activation=\"relu\"),\n",
    "    #tf.keras.layers.Dense(12,activation=\"relu\"),\n",
    "    tf.keras.layers.Dense(8,activation=\"relu\"),\n",
    "    #tf.keras.layers.Dense(4,activation=\"relu\"),\n",
    "    tf.keras.layers.Dense(1,activation=\"sigmoid\"),\n",
    "])\n",
    "\n",
    "#Compile the model\n",
    "\n",
    "Ml_model.compile(loss='binary_crossentropy', optimizer='adam', metrics=['accuracy'])\n",
    "\n",
    "#Train the model\n",
    "\n",
    "history=Ml_model.fit(X,y,epochs=200, batch_size=250,verbose=0)"
   ]
  }
 ],
 "metadata": {
  "kernelspec": {
   "display_name": "Python 3",
   "language": "python",
   "name": "python3"
  },
  "language_info": {
   "codemirror_mode": {
    "name": "ipython",
    "version": 3
   },
   "file_extension": ".py",
   "mimetype": "text/x-python",
   "name": "python",
   "nbconvert_exporter": "python",
   "pygments_lexer": "ipython3",
   "version": "3.7.1"
  }
 },
 "nbformat": 4,
 "nbformat_minor": 4
}
