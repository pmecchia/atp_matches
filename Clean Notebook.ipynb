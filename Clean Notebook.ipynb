{
 "cells": [
  {
   "cell_type": "code",
   "execution_count": 10,
   "metadata": {},
   "outputs": [],
   "source": [
    "import pandas as pd\n",
    "import numpy as np\n",
    "import seaborn as sn\n",
    "import tensorflow as tf\n",
    "import matplotlib.pyplot as plt\n",
    "from math import log\n",
    "from sklearn import preprocessing\n",
    "from sklearn.model_selection import train_test_split\n",
    "from sklearn import metrics\n",
    "from sklearn import svm\n",
    "from sklearn.svm import LinearSVC\n",
    "from sklearn import neighbors, metrics\n",
    "\n",
    "from urllib.request import Request, urlopen\n",
    "from bs4 import BeautifulSoup\n",
    "from time import sleep\n"
   ]
  },
  {
   "cell_type": "markdown",
   "metadata": {},
   "source": [
    "## Players Dataframe"
   ]
  },
  {
   "cell_type": "markdown",
   "metadata": {},
   "source": [
    "Source: <a href=\"https://www.kaggle.com/romanzdk/atp-players-overviews\" target=\"_blank\">https://www.kaggle.com/romanzdk/atp-players-overviews/</a>"
   ]
  },
  {
   "cell_type": "code",
   "execution_count": 3,
   "metadata": {},
   "outputs": [
    {
     "data": {
      "text/html": [
       "<div>\n",
       "<style scoped>\n",
       "    .dataframe tbody tr th:only-of-type {\n",
       "        vertical-align: middle;\n",
       "    }\n",
       "\n",
       "    .dataframe tbody tr th {\n",
       "        vertical-align: top;\n",
       "    }\n",
       "\n",
       "    .dataframe thead th {\n",
       "        text-align: right;\n",
       "    }\n",
       "</style>\n",
       "<table border=\"1\" class=\"dataframe\">\n",
       "  <thead>\n",
       "    <tr style=\"text-align: right;\">\n",
       "      <th></th>\n",
       "      <th>AtpId</th>\n",
       "      <th>AtpName</th>\n",
       "      <th>FirstName</th>\n",
       "      <th>Name</th>\n",
       "      <th>height</th>\n",
       "      <th>handedness</th>\n",
       "      <th>backhand</th>\n",
       "    </tr>\n",
       "  </thead>\n",
       "  <tbody>\n",
       "    <tr>\n",
       "      <th>0</th>\n",
       "      <td>a001</td>\n",
       "      <td>sadiq-abdullahi</td>\n",
       "      <td>Sadiq</td>\n",
       "      <td>Abdullahi</td>\n",
       "      <td>0.0</td>\n",
       "      <td>NaN</td>\n",
       "      <td>NaN</td>\n",
       "    </tr>\n",
       "    <tr>\n",
       "      <th>1</th>\n",
       "      <td>a005</td>\n",
       "      <td>nelson-aerts</td>\n",
       "      <td>Nelson</td>\n",
       "      <td>Aerts</td>\n",
       "      <td>188.0</td>\n",
       "      <td>NaN</td>\n",
       "      <td>NaN</td>\n",
       "    </tr>\n",
       "    <tr>\n",
       "      <th>2</th>\n",
       "      <td>a004</td>\n",
       "      <td>egan-adams</td>\n",
       "      <td>Egan</td>\n",
       "      <td>Adams</td>\n",
       "      <td>178.0</td>\n",
       "      <td>NaN</td>\n",
       "      <td>NaN</td>\n",
       "    </tr>\n",
       "    <tr>\n",
       "      <th>3</th>\n",
       "      <td>a006</td>\n",
       "      <td>ronald-agenor</td>\n",
       "      <td>Ronald</td>\n",
       "      <td>Agenor</td>\n",
       "      <td>180.0</td>\n",
       "      <td>NaN</td>\n",
       "      <td>NaN</td>\n",
       "    </tr>\n",
       "    <tr>\n",
       "      <th>4</th>\n",
       "      <td>a007</td>\n",
       "      <td>juan-aguilera</td>\n",
       "      <td>Juan</td>\n",
       "      <td>Aguilera</td>\n",
       "      <td>183.0</td>\n",
       "      <td>NaN</td>\n",
       "      <td>NaN</td>\n",
       "    </tr>\n",
       "  </tbody>\n",
       "</table>\n",
       "</div>"
      ],
      "text/plain": [
       "  AtpId          AtpName FirstName       Name  height handedness backhand\n",
       "0  a001  sadiq-abdullahi     Sadiq  Abdullahi     0.0        NaN      NaN\n",
       "1  a005     nelson-aerts    Nelson      Aerts   188.0        NaN      NaN\n",
       "2  a004       egan-adams      Egan      Adams   178.0        NaN      NaN\n",
       "3  a006    ronald-agenor    Ronald     Agenor   180.0        NaN      NaN\n",
       "4  a007    juan-aguilera      Juan   Aguilera   183.0        NaN      NaN"
      ]
     },
     "execution_count": 3,
     "metadata": {},
     "output_type": "execute_result"
    }
   ],
   "source": [
    "df_players=pd.read_csv('player_overviews.csv')\n",
    "df_players=df_players.drop(df_players.columns[4:17],axis=1)\n",
    "df_players.columns=['AtpId','AtpName','FirstName','Name','height','handedness','backhand']\n",
    "df_players.head()"
   ]
  },
  {
   "cell_type": "code",
   "execution_count": null,
   "metadata": {},
   "outputs": [],
   "source": []
  },
  {
   "cell_type": "markdown",
   "metadata": {},
   "source": [
    "The dataset is not udpated and some current players are missing. The idea is to scrap datas from the https://www.atptour.com/ website."
   ]
  },
  {
   "cell_type": "code",
   "execution_count": 34,
   "metadata": {},
   "outputs": [],
   "source": [
    "#Player informations' are accessible through their atp overview webpage. \n",
    "#To get this page we need the name and the id given by the website.\n",
    "#A first scrap on 'https://www.atptour.com/en/rankings/singles/ gives the url of the overview page\n",
    "#Then for each player, we scrap First name and Last name in their overview webpage and create a dictionnary\n",
    "\n",
    "def AtpPlayers():\n",
    "    AtpIdList=[]\n",
    "    AtpNameList=[]\n",
    "    FirstNameList=[]\n",
    "    LastNameList=[]\n",
    "    ActualRankingList=[]\n",
    "    atpRank='https://www.atptour.com/en/rankings/singles/?rankDate=2020-9-14&countryCode=all&rankRange=0-700'\n",
    "    req = Request(atpRank, headers={'User-Agent': ''})\n",
    "    webpageAtp = urlopen(req).read()\n",
    "    soup = BeautifulSoup(webpageAtp, 'html.parser')\n",
    "    for i in range(0,700):\n",
    "        url_overview='https://www.atptour.com' + soup.select('.player-cell a')[i]['href']\n",
    "        AtpName=url_overview.split(\"/\")[5]\n",
    "        AtpId=url_overview.split(\"/\")[6]\n",
    "        \n",
    "        req2 = Request(url_overview, headers={'User-Agent': 'Mozilla/5.0'})\n",
    "        webpage_overview = urlopen(req2).read()\n",
    "        soup2 = BeautifulSoup(webpage_overview, 'html.parser')\n",
    "        try:\n",
    "            FirstName = soup2.find( attrs={'class': 'first-name'}).get_text()\n",
    "        except AttributeError:\n",
    "            FirstName=np.nan\n",
    "        \n",
    "        try:\n",
    "            Name = soup2.find( attrs={'class': 'last-name'}).get_text()\n",
    "        except AttributeError:\n",
    "            Name=np.nan\n",
    "            \n",
    "        \n",
    "            \n",
    "        AtpIdList.append(AtpId)\n",
    "        AtpNameList.append(AtpName)\n",
    "        FirstNameList.append(FirstName)\n",
    "        LastNameList.append(Name)\n",
    "        ActualRankingList.append(i+1)\n",
    "        \n",
    "        Dictionnary={'AtpId':AtpIdList,'AtpName':AtpNameList,'FirstName':FirstNameList,'Name':LastNameList,'ActualRanking':ActualRankingList}\n",
    "\n",
    "    return Dictionnary"
   ]
  },
  {
   "cell_type": "code",
   "execution_count": 35,
   "metadata": {},
   "outputs": [
    {
     "name": "stdout",
     "output_type": "stream",
     "text": [
      "(11188, 8)\n"
     ]
    },
    {
     "data": {
      "text/html": [
       "<div>\n",
       "<style scoped>\n",
       "    .dataframe tbody tr th:only-of-type {\n",
       "        vertical-align: middle;\n",
       "    }\n",
       "\n",
       "    .dataframe tbody tr th {\n",
       "        vertical-align: top;\n",
       "    }\n",
       "\n",
       "    .dataframe thead th {\n",
       "        text-align: right;\n",
       "    }\n",
       "</style>\n",
       "<table border=\"1\" class=\"dataframe\">\n",
       "  <thead>\n",
       "    <tr style=\"text-align: right;\">\n",
       "      <th></th>\n",
       "      <th>AtpId</th>\n",
       "      <th>AtpName</th>\n",
       "      <th>FirstName</th>\n",
       "      <th>Name</th>\n",
       "      <th>height</th>\n",
       "      <th>handedness</th>\n",
       "      <th>backhand</th>\n",
       "      <th>ActualRanking</th>\n",
       "    </tr>\n",
       "  </thead>\n",
       "  <tbody>\n",
       "    <tr>\n",
       "      <th>0</th>\n",
       "      <td>a001</td>\n",
       "      <td>sadiq-abdullahi</td>\n",
       "      <td>Sadiq</td>\n",
       "      <td>Abdullahi</td>\n",
       "      <td>0.0</td>\n",
       "      <td>NaN</td>\n",
       "      <td>NaN</td>\n",
       "      <td>NaN</td>\n",
       "    </tr>\n",
       "    <tr>\n",
       "      <th>1</th>\n",
       "      <td>a005</td>\n",
       "      <td>nelson-aerts</td>\n",
       "      <td>Nelson</td>\n",
       "      <td>Aerts</td>\n",
       "      <td>188.0</td>\n",
       "      <td>NaN</td>\n",
       "      <td>NaN</td>\n",
       "      <td>NaN</td>\n",
       "    </tr>\n",
       "    <tr>\n",
       "      <th>2</th>\n",
       "      <td>a004</td>\n",
       "      <td>egan-adams</td>\n",
       "      <td>Egan</td>\n",
       "      <td>Adams</td>\n",
       "      <td>178.0</td>\n",
       "      <td>NaN</td>\n",
       "      <td>NaN</td>\n",
       "      <td>NaN</td>\n",
       "    </tr>\n",
       "    <tr>\n",
       "      <th>3</th>\n",
       "      <td>a006</td>\n",
       "      <td>ronald-agenor</td>\n",
       "      <td>Ronald</td>\n",
       "      <td>Agenor</td>\n",
       "      <td>180.0</td>\n",
       "      <td>NaN</td>\n",
       "      <td>NaN</td>\n",
       "      <td>NaN</td>\n",
       "    </tr>\n",
       "    <tr>\n",
       "      <th>4</th>\n",
       "      <td>a007</td>\n",
       "      <td>juan-aguilera</td>\n",
       "      <td>Juan</td>\n",
       "      <td>Aguilera</td>\n",
       "      <td>183.0</td>\n",
       "      <td>NaN</td>\n",
       "      <td>NaN</td>\n",
       "      <td>NaN</td>\n",
       "    </tr>\n",
       "  </tbody>\n",
       "</table>\n",
       "</div>"
      ],
      "text/plain": [
       "  AtpId          AtpName FirstName       Name  height handedness backhand  \\\n",
       "0  a001  sadiq-abdullahi     Sadiq  Abdullahi     0.0        NaN      NaN   \n",
       "1  a005     nelson-aerts    Nelson      Aerts   188.0        NaN      NaN   \n",
       "2  a004       egan-adams      Egan      Adams   178.0        NaN      NaN   \n",
       "3  a006    ronald-agenor    Ronald     Agenor   180.0        NaN      NaN   \n",
       "4  a007    juan-aguilera      Juan   Aguilera   183.0        NaN      NaN   \n",
       "\n",
       "   ActualRanking  \n",
       "0            NaN  \n",
       "1            NaN  \n",
       "2            NaN  \n",
       "3            NaN  \n",
       "4            NaN  "
      ]
     },
     "execution_count": 35,
     "metadata": {},
     "output_type": "execute_result"
    }
   ],
   "source": [
    "df_AtpPlayers=AtpPlayers() #get a dictionnary with scraped datas\n",
    "df_AtpPlayers=pd.DataFrame(df_AtpPlayers) #convert dictionnary into dataframe\n",
    "df_total_players=pd.concat([df_players, df_AtpPlayers], ignore_index=True) # concat the scraping dataframe with the original one\n",
    "df_total_players.drop_duplicates(subset =\"AtpId\",keep = \"last\", inplace = True) # KEEP UNIQUE VALUES\n",
    "print(df_total_players.shape)\n",
    "df_total_players.head()"
   ]
  },
  {
   "cell_type": "code",
   "execution_count": 17,
   "metadata": {},
   "outputs": [
    {
     "data": {
      "text/plain": [
       "0"
      ]
     },
     "execution_count": 17,
     "metadata": {},
     "output_type": "execute_result"
    }
   ],
   "source": [
    "df_total_players[\"AtpName\"].isna().sum()"
   ]
  },
  {
   "cell_type": "markdown",
   "metadata": {},
   "source": [
    "Height, Handedness and Backhand are interesting criterias to analyse but we saw in the model prediction notebook that backhand had too many 'Nan' values even after scraping. Thanks to the AtId and AtpNAme we scraped on the website https://www.atptour.com/ "
   ]
  },
  {
   "cell_type": "code",
   "execution_count": 18,
   "metadata": {},
   "outputs": [],
   "source": [
    "def scraping(atpId,atpName,height,handedness):\n",
    "    \n",
    "    try:\n",
    "        url_atp = 'https://www.atptour.com/en/players/'+atpName+'/'+atpId+'/overview'\n",
    "        req = Request(url_atp, headers={'User-Agent': 'Mozilla/5.0'})\n",
    "        webpage = urlopen(req).read()\n",
    "        soup = BeautifulSoup(webpage, 'html.parser')\n",
    "        sleep(1)\n",
    "\n",
    "        if ((height!=height) or (height==0.0)): #check NaN value or height equals to 0\n",
    "            try:\n",
    "                height = soup.find( attrs={'class': 'table-height-cm-wrapper'}).get_text()\n",
    "                height= height.replace('(','').replace(')','').replace('cm','')\n",
    "                if str(height)=='0':\n",
    "                    height=np.nan\n",
    "                else:\n",
    "                    height=height\n",
    "            except AttributeError:\n",
    "                height=np.nan\n",
    "        else:\n",
    "            height=height\n",
    "\n",
    "        if handedness!=handedness: #check NaN value\n",
    "            try:\n",
    "                plays= soup.find_all( attrs={'class':\"table-value\"})\n",
    "                if len(plays)>=2:\n",
    "                    plays=plays[2].get_text()\n",
    "                    if len(plays)>1:\n",
    "                        plays=plays.split(\", \")\n",
    "\n",
    "                        handedness=plays[0].replace(\"\\r\",\"\")\n",
    "                        handedness=handedness.replace(\"\\n\",\"\")  \n",
    "                    else:\n",
    "                        handedness=plays.replace(\"\\r\",\"\")\n",
    "                        handedness=handedness.replace(\"\\n\",\"\")\n",
    "                    if handedness=='':\n",
    "                        handedness=np.nan\n",
    "                    else:\n",
    "                        handedness=handedness\n",
    "                else:\n",
    "                    handedness=np.nan\n",
    "            except AttributeError:\n",
    "                handedness=np.nan\n",
    "        else:\n",
    "            handedness=handedness\n",
    "\n",
    "\n",
    "\n",
    "        ##Ranking scraping\n",
    "        try:\n",
    "            ranking = soup.find( attrs={'class': 'data-number'}).get_text()\n",
    "        except:\n",
    "            ranking=np.nan\n",
    "        try:\n",
    "            int(ranking)\n",
    "            return ranking\n",
    "        except ValueError: #For inactive players \n",
    "            return np.nan\n",
    "        \n",
    "        sleep(5)\n",
    "        \n",
    "    except:\n",
    "        height=handedness=ranking=np.nan\n",
    "    \n",
    "    \n",
    "    \n",
    "    return height,handedness,ranking"
   ]
  },
  {
   "cell_type": "code",
   "execution_count": 19,
   "metadata": {},
   "outputs": [],
   "source": [
    "def PlayersRanking(atpId,atpName):\n",
    "    url_atp = 'https://www.atptour.com/en/players/'+atpName+'/'+atpId+'/overview'\n",
    "    req = Request(url_atp, headers={'User-Agent': 'Mozilla/5.0'})\n",
    "    webpage = urlopen(req).read()\n",
    "    soup = BeautifulSoup(webpage, 'html.parser')\n",
    "    try:\n",
    "        Ranking = soup.find( attrs={'class': 'data-number'}).get_text()\n",
    "    except:\n",
    "        Ranking=np.nan\n",
    "    try:\n",
    "        int(Ranking)\n",
    "        return Ranking\n",
    "    except ValueError: #For inactive players \n",
    "        return np.nan"
   ]
  },
  {
   "cell_type": "code",
   "execution_count": 20,
   "metadata": {},
   "outputs": [
    {
     "ename": "ValueError",
     "evalue": "Must have equal len keys and value when setting with an iterable",
     "output_type": "error",
     "traceback": [
      "\u001b[0;31m---------------------------------------------------------------------------\u001b[0m",
      "\u001b[0;31mValueError\u001b[0m                                Traceback (most recent call last)",
      "\u001b[0;32m<ipython-input-20-c31d7b184283>\u001b[0m in \u001b[0;36m<module>\u001b[0;34m\u001b[0m\n\u001b[0;32m----> 1\u001b[0;31m \u001b[0mdf_total_players\u001b[0m\u001b[0;34m[\u001b[0m\u001b[0;34m[\u001b[0m\u001b[0;34m'ScrapHeight'\u001b[0m\u001b[0;34m,\u001b[0m\u001b[0;34m'ScrapHand'\u001b[0m\u001b[0;34m,\u001b[0m\u001b[0;34m'ScrapRank'\u001b[0m\u001b[0;34m]\u001b[0m\u001b[0;34m]\u001b[0m\u001b[0;34m=\u001b[0m\u001b[0mdf_total_players\u001b[0m\u001b[0;34m.\u001b[0m\u001b[0mapply\u001b[0m\u001b[0;34m(\u001b[0m\u001b[0;32mlambda\u001b[0m \u001b[0mx\u001b[0m \u001b[0;34m:\u001b[0m \u001b[0mscraping\u001b[0m\u001b[0;34m(\u001b[0m\u001b[0mx\u001b[0m\u001b[0;34m[\u001b[0m\u001b[0;34m'AtpId'\u001b[0m\u001b[0;34m]\u001b[0m\u001b[0;34m,\u001b[0m\u001b[0mx\u001b[0m\u001b[0;34m[\u001b[0m\u001b[0;34m'AtpName'\u001b[0m\u001b[0;34m]\u001b[0m\u001b[0;34m,\u001b[0m\u001b[0mx\u001b[0m\u001b[0;34m[\u001b[0m\u001b[0;34m'height'\u001b[0m\u001b[0;34m]\u001b[0m\u001b[0;34m,\u001b[0m\u001b[0mx\u001b[0m\u001b[0;34m[\u001b[0m\u001b[0;34m'handedness'\u001b[0m\u001b[0;34m]\u001b[0m\u001b[0;34m)\u001b[0m\u001b[0;34m,\u001b[0m\u001b[0maxis\u001b[0m\u001b[0;34m=\u001b[0m\u001b[0;36m1\u001b[0m\u001b[0;34m,\u001b[0m\u001b[0mresult_type\u001b[0m\u001b[0;34m=\u001b[0m\u001b[0;34m\"expand\"\u001b[0m\u001b[0;34m)\u001b[0m\u001b[0;34m\u001b[0m\u001b[0;34m\u001b[0m\u001b[0m\n\u001b[0m\u001b[1;32m      2\u001b[0m \u001b[0mdf_total_players\u001b[0m\u001b[0;34m.\u001b[0m\u001b[0mhead\u001b[0m\u001b[0;34m(\u001b[0m\u001b[0;34m)\u001b[0m\u001b[0;34m\u001b[0m\u001b[0;34m\u001b[0m\u001b[0m\n",
      "\u001b[0;32m~/anaconda3/lib/python3.7/site-packages/pandas/core/frame.py\u001b[0m in \u001b[0;36m__setitem__\u001b[0;34m(self, key, value)\u001b[0m\n\u001b[1;32m   3035\u001b[0m             \u001b[0mself\u001b[0m\u001b[0;34m.\u001b[0m\u001b[0m_setitem_frame\u001b[0m\u001b[0;34m(\u001b[0m\u001b[0mkey\u001b[0m\u001b[0;34m,\u001b[0m \u001b[0mvalue\u001b[0m\u001b[0;34m)\u001b[0m\u001b[0;34m\u001b[0m\u001b[0;34m\u001b[0m\u001b[0m\n\u001b[1;32m   3036\u001b[0m         \u001b[0;32melif\u001b[0m \u001b[0misinstance\u001b[0m\u001b[0;34m(\u001b[0m\u001b[0mkey\u001b[0m\u001b[0;34m,\u001b[0m \u001b[0;34m(\u001b[0m\u001b[0mSeries\u001b[0m\u001b[0;34m,\u001b[0m \u001b[0mnp\u001b[0m\u001b[0;34m.\u001b[0m\u001b[0mndarray\u001b[0m\u001b[0;34m,\u001b[0m \u001b[0mlist\u001b[0m\u001b[0;34m,\u001b[0m \u001b[0mIndex\u001b[0m\u001b[0;34m)\u001b[0m\u001b[0;34m)\u001b[0m\u001b[0;34m:\u001b[0m\u001b[0;34m\u001b[0m\u001b[0;34m\u001b[0m\u001b[0m\n\u001b[0;32m-> 3037\u001b[0;31m             \u001b[0mself\u001b[0m\u001b[0;34m.\u001b[0m\u001b[0m_setitem_array\u001b[0m\u001b[0;34m(\u001b[0m\u001b[0mkey\u001b[0m\u001b[0;34m,\u001b[0m \u001b[0mvalue\u001b[0m\u001b[0;34m)\u001b[0m\u001b[0;34m\u001b[0m\u001b[0;34m\u001b[0m\u001b[0m\n\u001b[0m\u001b[1;32m   3038\u001b[0m         \u001b[0;32melse\u001b[0m\u001b[0;34m:\u001b[0m\u001b[0;34m\u001b[0m\u001b[0;34m\u001b[0m\u001b[0m\n\u001b[1;32m   3039\u001b[0m             \u001b[0;31m# set column\u001b[0m\u001b[0;34m\u001b[0m\u001b[0;34m\u001b[0m\u001b[0;34m\u001b[0m\u001b[0m\n",
      "\u001b[0;32m~/anaconda3/lib/python3.7/site-packages/pandas/core/frame.py\u001b[0m in \u001b[0;36m_setitem_array\u001b[0;34m(self, key, value)\u001b[0m\n\u001b[1;32m   3070\u001b[0m                 )[1]\n\u001b[1;32m   3071\u001b[0m                 \u001b[0mself\u001b[0m\u001b[0;34m.\u001b[0m\u001b[0m_check_setitem_copy\u001b[0m\u001b[0;34m(\u001b[0m\u001b[0;34m)\u001b[0m\u001b[0;34m\u001b[0m\u001b[0;34m\u001b[0m\u001b[0m\n\u001b[0;32m-> 3072\u001b[0;31m                 \u001b[0mself\u001b[0m\u001b[0;34m.\u001b[0m\u001b[0miloc\u001b[0m\u001b[0;34m.\u001b[0m\u001b[0m_setitem_with_indexer\u001b[0m\u001b[0;34m(\u001b[0m\u001b[0;34m(\u001b[0m\u001b[0mslice\u001b[0m\u001b[0;34m(\u001b[0m\u001b[0;32mNone\u001b[0m\u001b[0;34m)\u001b[0m\u001b[0;34m,\u001b[0m \u001b[0mindexer\u001b[0m\u001b[0;34m)\u001b[0m\u001b[0;34m,\u001b[0m \u001b[0mvalue\u001b[0m\u001b[0;34m)\u001b[0m\u001b[0;34m\u001b[0m\u001b[0;34m\u001b[0m\u001b[0m\n\u001b[0m\u001b[1;32m   3073\u001b[0m \u001b[0;34m\u001b[0m\u001b[0m\n\u001b[1;32m   3074\u001b[0m     \u001b[0;32mdef\u001b[0m \u001b[0m_setitem_frame\u001b[0m\u001b[0;34m(\u001b[0m\u001b[0mself\u001b[0m\u001b[0;34m,\u001b[0m \u001b[0mkey\u001b[0m\u001b[0;34m,\u001b[0m \u001b[0mvalue\u001b[0m\u001b[0;34m)\u001b[0m\u001b[0;34m:\u001b[0m\u001b[0;34m\u001b[0m\u001b[0;34m\u001b[0m\u001b[0m\n",
      "\u001b[0;32m~/anaconda3/lib/python3.7/site-packages/pandas/core/indexing.py\u001b[0m in \u001b[0;36m_setitem_with_indexer\u001b[0;34m(self, indexer, value)\u001b[0m\n\u001b[1;32m   1753\u001b[0m                     \u001b[0;32mif\u001b[0m \u001b[0mlen\u001b[0m\u001b[0;34m(\u001b[0m\u001b[0milocs\u001b[0m\u001b[0;34m)\u001b[0m \u001b[0;34m!=\u001b[0m \u001b[0mlen\u001b[0m\u001b[0;34m(\u001b[0m\u001b[0mvalue\u001b[0m\u001b[0;34m)\u001b[0m\u001b[0;34m:\u001b[0m\u001b[0;34m\u001b[0m\u001b[0;34m\u001b[0m\u001b[0m\n\u001b[1;32m   1754\u001b[0m                         raise ValueError(\n\u001b[0;32m-> 1755\u001b[0;31m                             \u001b[0;34m\"Must have equal len keys and value \"\u001b[0m\u001b[0;34m\u001b[0m\u001b[0;34m\u001b[0m\u001b[0m\n\u001b[0m\u001b[1;32m   1756\u001b[0m                             \u001b[0;34m\"when setting with an iterable\"\u001b[0m\u001b[0;34m\u001b[0m\u001b[0;34m\u001b[0m\u001b[0m\n\u001b[1;32m   1757\u001b[0m                         )\n",
      "\u001b[0;31mValueError\u001b[0m: Must have equal len keys and value when setting with an iterable"
     ]
    }
   ],
   "source": [
    "df_total_players[['ScrapHeight','ScrapHand','ScrapRank']]=df_total_players.apply(lambda x : scraping(x['AtpId'],x['AtpName'],x['height'],x['handedness']),axis=1,result_type=\"expand\")\n",
    "df_total_players.head()"
   ]
  },
  {
   "cell_type": "markdown",
   "metadata": {},
   "source": [
    "### Change Name syntax to be similar to global_dateset"
   ]
  },
  {
   "cell_type": "markdown",
   "metadata": {},
   "source": [
    "For a future merge with the betting dataframe, we need to apply the same syntax to the Name column"
   ]
  },
  {
   "cell_type": "code",
   "execution_count": null,
   "metadata": {},
   "outputs": [],
   "source": [
    "def PlayerName(Name,FirstName):\n",
    "    length= len(Name)\n",
    "    if \"-\" in FirstName:\n",
    "        FirstName=FirstName.split(\"-\")\n",
    "        player=Name+' '+FirstName[0][0]+'.'+FirstName[1][0]+'.'\n",
    "    elif \" \" in FirstName:\n",
    "        FirstName=FirstName.split()\n",
    "        if len(FirstName)>1:\n",
    "            player=Name+' '+FirstName[0][0]+'.'+FirstName[1][0]+'.'\n",
    "        else:\n",
    "            player=Name+' '+FirstName[0]+'.'\n",
    "    elif Name[length-1]=='.':\n",
    "        player=Name+FirstName[0]+'.'\n",
    "        \n",
    "    else:\n",
    "        player=Name+' '+FirstName[0]+'.'\n",
    "    return player.title()"
   ]
  },
  {
   "cell_type": "code",
   "execution_count": null,
   "metadata": {},
   "outputs": [],
   "source": [
    "df_total_players['Name']=df_total_players.apply(lambda x: PlayerName(x[\"Name\"],x[\"FirstName\"]), axis=1)\n",
    "df_total_players=df_total_players.drop([\"FirstName\"],axis=1) #column not needed anymore\n",
    "df_total_players.head()"
   ]
  },
  {
   "cell_type": "code",
   "execution_count": null,
   "metadata": {},
   "outputs": [],
   "source": []
  }
 ],
 "metadata": {
  "kernelspec": {
   "display_name": "Python 3",
   "language": "python",
   "name": "python3"
  },
  "language_info": {
   "codemirror_mode": {
    "name": "ipython",
    "version": 3
   },
   "file_extension": ".py",
   "mimetype": "text/x-python",
   "name": "python",
   "nbconvert_exporter": "python",
   "pygments_lexer": "ipython3",
   "version": "3.7.1"
  }
 },
 "nbformat": 4,
 "nbformat_minor": 4
}
